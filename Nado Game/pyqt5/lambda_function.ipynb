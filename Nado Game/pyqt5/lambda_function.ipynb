{
 "cells": [
  {
   "cell_type": "code",
   "execution_count": null,
   "metadata": {
    "scrolled": true
   },
   "outputs": [],
   "source": [
    "#lambda x : x*2\n",
    "\n",
    "result2 = list(map((lambda x : x * 2),[1, 2, 3, 4, 5]))\n",
    "print(result2)\n",
    "result2 = list(map((lambda x : x * 2),[1, 2, 3, 4, 5]))\n",
    "print(result2)\n"
   ]
  },
  {
   "cell_type": "code",
   "execution_count": null,
   "metadata": {},
   "outputs": [],
   "source": [
    "def plus_ten(x):\n",
    "    return x + 10\n",
    "list(map(plus_ten, [4,5,6]))\n"
   ]
  },
  {
   "cell_type": "code",
   "execution_count": null,
   "metadata": {},
   "outputs": [],
   "source": [
    "plus_ten = lambda x: x+10\n",
    "plus_ten(10)"
   ]
  },
  {
   "cell_type": "code",
   "execution_count": null,
   "metadata": {},
   "outputs": [],
   "source": [
    "(lambda x: x+10)(100)"
   ]
  },
  {
   "cell_type": "code",
   "execution_count": null,
   "metadata": {},
   "outputs": [],
   "source": [
    "result2 = list(map((lambda x : x**2),[1,2,3,4,5]))\n",
    "result2"
   ]
  },
  {
   "cell_type": "code",
   "execution_count": null,
   "metadata": {
    "scrolled": false
   },
   "outputs": [],
   "source": [
    "import sys\n",
    "import pandas as pd\n",
    "from PyQt5.QtWidgets import  *\n",
    "from PyQt5.OtCore import *#Qt\n",
    "\n",
    "class Main(QDialog):\n",
    "    def __init__(self):\n",
    "        super().__init__()\n",
    "        self.initUI()\n",
    "\n",
    "    def initUI(self):\n",
    "        layout = QVBoxLayout()\n",
    "\n",
    "        '''Blank Table Widget'''\n",
    "        table_widget = QTableWidget()\n",
    "\n",
    "        '''PushButton for Load CSV file'''\n",
    "        button_load = QPushButton(\"Load\")\n",
    "        button_load.clicked.connect(lambda state, widget = table_widget: self.slot_button_load(state, widget))\n",
    "\n",
    "        '''PushButton for Save modified CSV'''\n",
    "        button_save = QPushButton(\"Save\")\n",
    "        button_save.clicked.connect(lambda state, widget = table_widget: self.slot_button_save(state, widget))\n",
    "\n",
    "        layout.addWidget(table_widget)\n",
    "        layout.addWidget(button_load)\n",
    "        layout.addWidget(button_save)\n",
    "\n",
    "        self.setLayout(layout)\n",
    "        self.resize(500, 500)\n",
    "        self.show()\n",
    "\n",
    "\n",
    "    def slot_button_load(self, state, widget):\n",
    "        filename = QFileDialog.getOpenFileName(self, 'Open file', './')\n",
    "\n",
    "        if filename[0]:\n",
    "            df = pd.read_csv(filename[0])#, index_col = 0)\n",
    "            self.create_table_widget(widget, df)\n",
    "\n",
    "\n",
    "    def create_table_widget(self, widget, df):\n",
    "        widget.setRowCount(len(df.index))\n",
    "        widget.setColumnCount(len(df.columns))\n",
    "        widget.setHorizontalHeaderLabels(df.columns)\n",
    "        #widget.setVerticalHeaderLabels(df.index)\n",
    "\n",
    "        for row_index, row in enumerate(df.index):\n",
    "            for col_index, column in enumerate(df.columns):\n",
    "                value = df.loc[row][column]\n",
    "                item = QTableWidgetItem(str(value))\n",
    "                item.setTextAlignment(Qt.AlignCenter)\n",
    "                widget.setItem(row_index, col_index, item)\n",
    "\n",
    "\n",
    "    def slot_button_save(self, state, widget):\n",
    "        for row_index in range(widget.rowCount()):\n",
    "            for col_index in range(widget.columnCount()):\n",
    "                item = widget.item(row_index, col_index)\n",
    "                content = item.text()\n",
    "                print(content)\n",
    "\n",
    "\n",
    "if __name__ == '__main__':\n",
    "    app = QApplication(sys.argv)\n",
    "    ex = Main()\n",
    "    sys.exit(app.exec_())"
   ]
  },
  {
   "cell_type": "code",
   "execution_count": 1,
   "metadata": {},
   "outputs": [
    {
     "name": "stdout",
     "output_type": "stream",
     "text": [
      "    종별  분류         종류   코드\n",
      "0   전기  가족      대가족할인    1\n",
      "1   전기  가족     출산가구할인    2\n",
      "2   전기  가족      다자녀할인    3\n",
      "3   전기  가족     의료기기할인    4\n",
      "4   전기  가족   대가족(다자녀)  NaN\n",
      "5   전기  복지  독립유공자할인금액    A\n",
      "6   전기  복지    국가유공 할인    B\n",
      "7   전기  복지    민주유공 할인    C\n",
      "8   전기  복지      장애인할인    D\n",
      "9   전기  복지     사회복지할인    E\n",
      "10  전기  복지     기초생활할인    G\n",
      "11  전기  복지     기초주거할인    H\n",
      "12  전기  복지  차상위계층할인금액    I\n",
      "13  전기  복지      교육 할인  NaN\n",
      "14  전기  복지          0  NaN\n",
      "15  전기  복지     복지추가감액    9\n",
      "16  전기  복지          0  NaN\n",
      "17  수도  감면       기초생활    3\n",
      "18  수도  감면        다자녀    I\n",
      "19  수도  감면        유공자    2\n",
      "20  수도  감면       중증장애    4\n",
      "21  수도  감면       중복할인    V\n"
     ]
    },
    {
     "data": {
      "text/plain": [
       "[['대가족할인', '출산가구할인', '다자녀할인', '의료기기할인'],\n",
       " ['1', '2', '3', '4'],\n",
       " {'대가족할인': '1', '출산가구할인': '2', '다자녀할인': '3', '의료기기할인': '4'},\n",
       " ['독립유공자할인금액',\n",
       "  '국가유공 할인',\n",
       "  '민주유공 할인',\n",
       "  '장애인할인',\n",
       "  '사회복지할인',\n",
       "  '기초생활할인',\n",
       "  '기초주거할인',\n",
       "  '차상위계층할인금액',\n",
       "  '복지추가감액'],\n",
       " ['A', 'B', 'C', 'D', 'E', 'G', 'H', 'I', '9'],\n",
       " {'독립유공자할인금액': 'A',\n",
       "  '국가유공 할인': 'B',\n",
       "  '민주유공 할인': 'C',\n",
       "  '장애인할인': 'D',\n",
       "  '사회복지할인': 'E',\n",
       "  '기초생활할인': 'G',\n",
       "  '기초주거할인': 'H',\n",
       "  '차상위계층할인금액': 'I',\n",
       "  '복지추가감액': '9'}]"
      ]
     },
     "execution_count": 1,
     "metadata": {},
     "output_type": "execute_result"
    }
   ],
   "source": [
    "import pandas as pd\n",
    "#file = self.lineEdit_15.text()\n",
    "kind_code = ['가족','복지']\n",
    "file = r\"D:/과장/1 1 부과자료/2024년/Templates/xperp_code_comparasion_table.xlsx\"\n",
    "with pd.ExcelFile(file) as f:\n",
    "    df = pd.read_excel(f, sheet_name = 1)\n",
    "print(df)\n",
    "sheet = f.sheet_names\n",
    "df.dropna(inplace = True)\n",
    "code_dict = []\n",
    "for c in kind_code:\n",
    "    is_elec = df['분류'] == c\n",
    "    df_elec = df[is_elec]\n",
    "    kind_list = df_elec['종류'].tolist()\n",
    "    code_list = df_elec['코드'].tolist()\n",
    "    kind_dict = dict(zip(kind_list, code_list))\n",
    "    code_dict.append(kind_list)\n",
    "    code_dict.append(code_list)\n",
    "    code_dict.append(kind_dict)\n",
    "code_dict\n"
   ]
  },
  {
   "cell_type": "code",
   "execution_count": null,
   "metadata": {},
   "outputs": [],
   "source": [
    "def add_ab(word):\n",
    "    if word in ['a', 'e', 'i', 'o', 'u']: return word + 'aa'\n",
    "    else: return word + 'bb'\n",
    "\n",
    "[add_ab(x) for x in 'airplane']"
   ]
  },
  {
   "cell_type": "code",
   "execution_count": 20,
   "metadata": {
    "scrolled": true
   },
   "outputs": [
    {
     "name": "stdout",
     "output_type": "stream",
     "text": [
      "계약\n",
      "종별 계약종별\n",
      "요금적용\n",
      "전력 요금적용전력\n",
      "전력량\n",
      "요금 전력량요금\n",
      "기후환경\n",
      "요금 기후환경요금\n",
      "연료비조정\n",
      "요금 연료비조정요금\n",
      "필수사용\n",
      "공제 필수사용공제\n",
      "복지추가\n",
      "감액 복지추가감액\n",
      "할인\n",
      "구분 할인구분\n",
      "요금개편\n",
      "차액 요금개편차액\n",
      "자동이체\n",
      "/인터넷 자동이체/인터넷\n",
      "전력\n",
      "기금 전력기금\n",
      "전기\n",
      "바우처 전기바우처\n",
      "['동', '호', '동호명', '가구수', '계약종별', '요금적용전력', '사용량', '기본요금', '전력량요금', '기후환경요금', '연료비조정요금', '필수사용공제', '복지추가감액', '할인구분', '복지할인', '요금동결할인', '요금동결소급', '요금개편차액', '절전할인', '자동이체/인터넷', '단수', '전기요금', '부가세', '에너지캐시백', '에너지수비대', '전력기금', '전기바우처', '정산', '출산가구소급', '당월소계', 'TV수신료', '청구금액', '비 고']\n",
      "         동       호         동호명  가구수   계약종별  요금적용전력     사용량  기본요금  전력량요금  \\\n",
      "0    501.0   302.0   501동 302호  1.0  100.0     3.0   311.0   0.0    0.0   \n",
      "1    501.0   401.0   501동 401호  1.0  100.0     3.0   214.0   0.0    0.0   \n",
      "2    501.0   501.0         NaN  1.0  100.0     3.0   454.0   0.0    0.0   \n",
      "3    501.0   603.0   501동 603호  1.0  100.0     3.0    95.0   0.0    0.0   \n",
      "4    501.0   804.0   501동 804호  1.0  100.0     3.0   350.0   0.0    0.0   \n",
      "..     ...     ...         ...  ...    ...     ...     ...   ...    ...   \n",
      "112  515.0   203.0   0515-0203  1.0  100.0     3.0   484.0   0.0    0.0   \n",
      "113  515.0   603.0   515동 603호  1.0  100.0     3.0  1069.0   0.0    0.0   \n",
      "114  515.0   704.0   515동 704호  1.0  100.0     3.0   282.0   0.0    0.0   \n",
      "115  515.0  1002.0  515동 1002호  1.0  100.0     3.0   669.0   0.0    0.0   \n",
      "116  515.0  1003.0  515동 1003호  1.0  100.0     3.0   528.0   0.0    0.0   \n",
      "\n",
      "     기후환경요금  ...   에너지캐시백  에너지수비대  전력기금 전기바우처   정산  출산가구소급  당월소계  TV수신료  청구금액  \\\n",
      "0       0.0  ...      0.0     0.0   0.0   0.0  0.0     0.0   0.0    0.0   0.0   \n",
      "1       0.0  ...      0.0     0.0   0.0   0.0  0.0     0.0   0.0    0.0   0.0   \n",
      "2       0.0  ...      0.0     0.0   0.0   0.0  0.0     0.0   0.0    0.0   0.0   \n",
      "3       0.0  ... -11600.0     0.0   0.0   0.0  0.0     0.0   0.0    0.0   0.0   \n",
      "4       0.0  ...      0.0     0.0   0.0   0.0  0.0     0.0   0.0    0.0   0.0   \n",
      "..      ...  ...      ...     ...   ...   ...  ...     ...   ...    ...   ...   \n",
      "112     0.0  ...      0.0     0.0   0.0   0.0  0.0     0.0   0.0    0.0   0.0   \n",
      "113     0.0  ...      0.0     0.0   0.0   0.0  0.0     0.0   0.0    0.0   0.0   \n",
      "114     0.0  ...      0.0     0.0   0.0   0.0  0.0     0.0   0.0    0.0   0.0   \n",
      "115     0.0  ...      0.0     0.0   0.0   0.0  0.0     0.0   0.0    0.0   0.0   \n",
      "116     0.0  ...  -5920.0     0.0   0.0   0.0  0.0     0.0   0.0    0.0   0.0   \n",
      "\n",
      "        비 고  \n",
      "0       NaN  \n",
      "1       NaN  \n",
      "2       NaN  \n",
      "3       NaN  \n",
      "4       NaN  \n",
      "..      ...  \n",
      "112     NaN  \n",
      "113  (기초생계)  \n",
      "114     NaN  \n",
      "115     NaN  \n",
      "116     NaN  \n",
      "\n",
      "[117 rows x 33 columns]\n"
     ]
    }
   ],
   "source": [
    "import pandas as pd\n",
    "f1= r\"D:\\과장\\1 1 부과자료\\2024년\\202402월/한전부과자료/R2+0144666733_202402_20240215.xls\"\n",
    "df = pd.read_excel(f1,skiprows=2)\n",
    "df.dropna(subset=['동', '호'],inplace=True)\n",
    "df_columns = list(df)\n",
    "for col in df_columns:\n",
    "    if '\\n' in col:\n",
    "        new_col = col.replace('\\n', '')\n",
    "        df.rename(columns = {col:new_col}, inplace = True)\n",
    "        print(col, new_col)\n",
    "df_columns = list(df)\n",
    "print(df_columns)\n",
    "print(df)"
   ]
  },
  {
   "cell_type": "code",
   "execution_count": 4,
   "metadata": {},
   "outputs": [
    {
     "name": "stdout",
     "output_type": "stream",
     "text": [
      "         동       호         동호명  가구수   계약종별  요금적용전력     사용량  기본요금  전력량요금  \\\n",
      "0    501.0   302.0   501동 302호  1.0  100.0     3.0   311.0   0.0    0.0   \n",
      "1    501.0   401.0   501동 401호  1.0  100.0     3.0   214.0   0.0    0.0   \n",
      "2    501.0   501.0         NaN  1.0  100.0     3.0   454.0   0.0    0.0   \n",
      "3    501.0   603.0   501동 603호  1.0  100.0     3.0    95.0   0.0    0.0   \n",
      "4    501.0   804.0   501동 804호  1.0  100.0     3.0   350.0   0.0    0.0   \n",
      "..     ...     ...         ...  ...    ...     ...     ...   ...    ...   \n",
      "112  515.0   203.0   0515-0203  1.0  100.0     3.0   484.0   0.0    0.0   \n",
      "113  515.0   603.0   515동 603호  1.0  100.0     3.0  1069.0   0.0    0.0   \n",
      "114  515.0   704.0   515동 704호  1.0  100.0     3.0   282.0   0.0    0.0   \n",
      "115  515.0  1002.0  515동 1002호  1.0  100.0     3.0   669.0   0.0    0.0   \n",
      "116  515.0  1003.0  515동 1003호  1.0  100.0     3.0   528.0   0.0    0.0   \n",
      "\n",
      "     기후환경요금  ...   에너지캐시백  에너지수비대  전력기금 전기바우처   정산  출산가구소급  당월소계  TV수신료  청구금액  \\\n",
      "0       0.0  ...      0.0     0.0   0.0   0.0  0.0     0.0   0.0    0.0   0.0   \n",
      "1       0.0  ...      0.0     0.0   0.0   0.0  0.0     0.0   0.0    0.0   0.0   \n",
      "2       0.0  ...      0.0     0.0   0.0   0.0  0.0     0.0   0.0    0.0   0.0   \n",
      "3       0.0  ... -11600.0     0.0   0.0   0.0  0.0     0.0   0.0    0.0   0.0   \n",
      "4       0.0  ...      0.0     0.0   0.0   0.0  0.0     0.0   0.0    0.0   0.0   \n",
      "..      ...  ...      ...     ...   ...   ...  ...     ...   ...    ...   ...   \n",
      "112     0.0  ...      0.0     0.0   0.0   0.0  0.0     0.0   0.0    0.0   0.0   \n",
      "113     0.0  ...      0.0     0.0   0.0   0.0  0.0     0.0   0.0    0.0   0.0   \n",
      "114     0.0  ...      0.0     0.0   0.0   0.0  0.0     0.0   0.0    0.0   0.0   \n",
      "115     0.0  ...      0.0     0.0   0.0   0.0  0.0     0.0   0.0    0.0   0.0   \n",
      "116     0.0  ...  -5920.0     0.0   0.0   0.0  0.0     0.0   0.0    0.0   0.0   \n",
      "\n",
      "        비 고  \n",
      "0       NaN  \n",
      "1       NaN  \n",
      "2       NaN  \n",
      "3       NaN  \n",
      "4       NaN  \n",
      "..      ...  \n",
      "112     NaN  \n",
      "113  (기초생계)  \n",
      "114     NaN  \n",
      "115     NaN  \n",
      "116     NaN  \n",
      "\n",
      "[117 rows x 32 columns]\n"
     ]
    }
   ],
   "source": [
    "import pandas as pd\n",
    "f1= r\"D:\\과장\\1 1 부과자료\\2024년\\202402월/한전부과자료/R2+0144666733_202402_20240215.xls\"\n",
    "df = pd.read_excel(f1,skiprows=2)\n",
    "df.dropna(subset=['동', '호'],inplace=True)\n",
    "df_columns = list(df)\n",
    "\n",
    "# 엑셀 파일에 라인변경 문자 들어 있는 컬럼 명칭 변경\n",
    "for col in df_columns:\n",
    "    if '\\n' in col:\n",
    "        new_col = col.replace('\\n', '')\n",
    "        df.rename(columns = {col:new_col}, inplace = True)\n",
    "#        print(col, new_col)\n",
    "#df_columns = list(df)\n",
    "#print(df_columns)\n",
    "col_sel =['동','호', '필수사용공제','복지추가감액', '요금동결할인', '요금동결소급', '에너지캐시백']\n",
    "col_sel1 =['동','호', '필수사용공제', '요금동결할인'] # 요금동결할인 합계\n",
    "\n",
    "if '요금동결소급' in df_columns: # 요금동결할인소급 금액 반영:\n",
    "    요금동결할인 = df[col_sel[4]].sum() + df[col_sel[5]].sum()\n",
    "    df['temp_요금동결할인'] = df['요금동결할인'] + df['요금동결소급']\n",
    "    df['요금동결할인'] = df['temp_요금동결할인']\n",
    "    df.drop(['temp_요금동결할인', '요금동결소급'], axis=1, inplace=True)\n",
    "    요금동결할인 = df[col_sel[4]].sum()\n",
    "    print(df)#.to_string())\n",
    "    #print(df['요금동결소급'], '\\n', df['요금동결할인'], '\\n', df['temp_요금동결할인'] )\n",
    "#else:\n",
    "    요금동결할인 = df[col_sel[4]].sum()\n",
    "\n",
    "\n",
    "필수사용공제 = df[col_sel[2]].sum()\n",
    "복지추가감액 = df[col_sel[3]].sum()\n",
    "\n"
   ]
  },
  {
   "cell_type": "code",
   "execution_count": 6,
   "metadata": {},
   "outputs": [
    {
     "name": "stdout",
     "output_type": "stream",
     "text": [
      "       동     호  대상자명      할인종류 장애종류  장애등급   할인요금  비고\n",
      "0    501   302   NaN    출산가구할인  NaN   NaN -11809 NaN\n",
      "1    501   302   NaN    요금동결할인  NaN   NaN  -6562 NaN\n",
      "2    501   302   NaN    요금동결소급  NaN   NaN   -524 NaN\n",
      "3    501   401   NaN     장애인할인  NaN   NaN -16000 NaN\n",
      "4    501   401   NaN    요금동결할인  NaN   NaN  -4515 NaN\n",
      "..   ...   ...   ...       ...  ...   ...    ...  ..\n",
      "339  515   704   NaN    요금동결소급  NaN   NaN   -498 NaN\n",
      "340  515  1002   NaN     다자녀할인  NaN   NaN -16000 NaN\n",
      "341  515  1002   NaN    요금동결할인  NaN   NaN  -6604 NaN\n",
      "342  515  1002   NaN    요금동결소급  NaN   NaN   -524 NaN\n",
      "343  515  1003   NaN  차등에너지캐시백  01월   NaN  -5920 NaN\n",
      "\n",
      "[344 rows x 8 columns]\n",
      "['출산가구할인' '요금동결할인' '요금동결소급' '장애인할인' '다자녀할인' '차등에너지캐시백' '복지추가감액' '대가족할인'\n",
      " '기초생활할인' '기초주거할인' '사회복지할인' '에너지바우처' '의료기기할인']\n",
      "['출산가구', '장애인', '다자녀', '대가족', '기초생활', '기초주거', '사회복지', '의료기기']\n"
     ]
    }
   ],
   "source": [
    "import pandas as pd\n",
    "f1= r\"D:\\과장\\1 1 부과자료\\2024년\\202402월/한전부과자료/0144666733_202402_20240215.xls\"\n",
    "df = pd.read_excel(f1,skiprows=2)\n",
    "print(df)\n",
    "df.dropna(subset=['동', '호'],inplace=True)\n",
    "#con = df[df['할인종류'].str.contains('추가복지감액')].index\n",
    "#df.drop(con, inplace=True)\n",
    "df_w = df[['동', '호','할인종류','장애등급','할인요금']].copy()\n",
    "\n",
    "print(df_w['할인종류'].unique())\n",
    "#kindOfDiscount = df_w['할인종류'].unique()\n",
    "kindOfDiscount = ['출산가구', '장애인', '다자녀', '대가족', '기초생활', '기초주거', '사회복지', '의료기기']\n",
    "print(kindOfDiscount)\n",
    "for kind in kindOfDiscount:\n",
    "    df_w.loc[df_w.할인종류.str.contains(kind), '장애등급'] = kind\n",
    "    #print(df_w)\n",
    "\n",
    "    \n",
    "df_w.drop(['할인종류'], axis=1, inplace=True)\n",
    "df_w = df_w.rename(columns={'장애등급': '할인종류'})\n",
    "df_w.dropna(subset=['할인종류'], inplace=True)\n",
    "#print(df_w.to_string())    \n",
    "    \n",
    "    #dfs=df[df['할인종류'].str.contains(kind)]\n",
    "    #print(dfs)\n",
    "    #dfs = dfs['할인종류'].replace(kind)\n",
    "    #print(dfs)\n",
    "\n",
    "#dfs=df[df['할인종류'].str.contains('출산가구')]\n",
    "\n",
    "\n",
    "\n"
   ]
  },
  {
   "cell_type": "code",
   "execution_count": null,
   "metadata": {},
   "outputs": [],
   "source": [
    "arr = [0] * 10\n",
    "print(arr)\n",
    "for i in range(10):\n",
    "    arr[i] = i\n",
    "arr"
   ]
  },
  {
   "cell_type": "code",
   "execution_count": null,
   "metadata": {},
   "outputs": [],
   "source": [
    "arr = [i for i in range(10)]\n",
    "arr"
   ]
  },
  {
   "cell_type": "code",
   "execution_count": null,
   "metadata": {},
   "outputs": [],
   "source": [
    "arr = [[0] * 5] * 5\n",
    "arr[4][4] = 545\n",
    "arr"
   ]
  },
  {
   "cell_type": "code",
   "execution_count": null,
   "metadata": {},
   "outputs": [],
   "source": [
    "arr = [[0 for col in range(4)] for row in range(3)]\n",
    "arr[0][2] = 545\n",
    "arr"
   ]
  },
  {
   "cell_type": "code",
   "execution_count": null,
   "metadata": {},
   "outputs": [],
   "source": [
    "matrix = [[1,2,3], [4,5,6], [7,8,9]]\n",
    "\n",
    "result_row = [row for row in matrix]\n",
    "\n",
    "print(result_row)\n",
    "\n",
    "result_row = []\n",
    "for row in range(0, len(matrix)): # 행 뽑기\n",
    "    result_row.append(matrix[row])\n",
    "print(result_row)\n",
    " \n",
    "result_col = []\n",
    "for row in zip(*matrix):            # 열 뽑기\n",
    "    result_col.append(row)\n",
    "print(result_col)\n",
    "\n",
    "result_col =[]\n",
    "\n",
    "zip_ = zip(*matrix)\n",
    "for item in zip_:\n",
    "    print(item)\n",
    "\n"
   ]
  },
  {
   "cell_type": "code",
   "execution_count": null,
   "metadata": {},
   "outputs": [],
   "source": [
    "# 3개의 리스트\n",
    "num = [1, 2, 3]\n",
    "fruit = ['apple', 'banana', 'orange']\n",
    "color = ['red', 'yellow', 'orange']\n",
    "zip_list = zip(num, fruit, color)\n",
    "# zip함수를 이용한 출력값\n",
    "#[(1, 'apple', 'red'), (2, 'banana', 'yellow'), (3, 'orange', 'orange')]\n",
    "list(zip_list)\n",
    "zip_dict = dict(zip(fruit, color))\n",
    "zip_dict"
   ]
  },
  {
   "cell_type": "code",
   "execution_count": null,
   "metadata": {},
   "outputs": [],
   "source": [
    "def magic(*args, **kwargs):\n",
    "    print(\"unnamed args:\", args)\n",
    "    print(\"keyword args:\", kwargs)\n",
    "\n",
    "magic(1, 2, key1=\"word1\", key2=\"word2\")\n",
    "# unnamed args: (1, 2)\n",
    "# keyword args: {'key1': 'word1', 'key2': 'word2'}"
   ]
  },
  {
   "cell_type": "code",
   "execution_count": null,
   "metadata": {},
   "outputs": [],
   "source": [
    "names = ['karl', 'john', 'adle']\n",
    "ages = [30, 20, 25]\n",
    "\n",
    "# 묶기\n",
    "pairs = zip(names, ages)\n",
    "\n",
    "print(l)\n",
    "print(pairs)\n",
    "# unpacking\n",
    "names, ages = zip(*pairs)\n",
    "list(names)\n",
    "print(names)\n",
    "print(ages)"
   ]
  },
  {
   "cell_type": "code",
   "execution_count": 15,
   "metadata": {},
   "outputs": [
    {
     "ename": "IndexError",
     "evalue": "list index out of range",
     "output_type": "error",
     "traceback": [
      "\u001b[1;31m---------------------------------------------------------------------------\u001b[0m",
      "\u001b[1;31mIndexError\u001b[0m                                Traceback (most recent call last)",
      "\u001b[1;32m<ipython-input-15-2e35c0f5fefd>\u001b[0m in \u001b[0;36m<module>\u001b[1;34m\u001b[0m\n\u001b[0;32m      1\u001b[0m \u001b[1;32mimport\u001b[0m \u001b[0mpandas\u001b[0m \u001b[1;32mas\u001b[0m \u001b[0mpd\u001b[0m\u001b[1;33m\u001b[0m\u001b[1;33m\u001b[0m\u001b[0m\n\u001b[0;32m      2\u001b[0m \u001b[0mf1\u001b[0m\u001b[1;33m=\u001b[0m \u001b[1;34mr\"D:\\과장\\1 1 부과자료\\2024년\\202403월/수도감면자료/2502월 수도요금+감면세대+상세조회 .xlsx\"\u001b[0m\u001b[1;33m\u001b[0m\u001b[1;33m\u001b[0m\u001b[0m\n\u001b[1;32m----> 3\u001b[1;33m \u001b[0mdf\u001b[0m \u001b[1;33m=\u001b[0m \u001b[0mpd\u001b[0m\u001b[1;33m.\u001b[0m\u001b[0mread_excel\u001b[0m\u001b[1;33m(\u001b[0m\u001b[0mf1\u001b[0m\u001b[1;33m,\u001b[0m\u001b[0mskiprows\u001b[0m\u001b[1;33m=\u001b[0m\u001b[1;36m6\u001b[0m\u001b[1;33m)\u001b[0m\u001b[1;33m\u001b[0m\u001b[1;33m\u001b[0m\u001b[0m\n\u001b[0m\u001b[0;32m      4\u001b[0m \u001b[0mprint\u001b[0m\u001b[1;33m(\u001b[0m\u001b[0mdf\u001b[0m\u001b[1;33m)\u001b[0m\u001b[1;33m\u001b[0m\u001b[1;33m\u001b[0m\u001b[0m\n\u001b[0;32m      5\u001b[0m \u001b[1;31m#df.dropna(subset=['동', '호'],inplace=True)\u001b[0m\u001b[1;33m\u001b[0m\u001b[1;33m\u001b[0m\u001b[1;33m\u001b[0m\u001b[0m\n",
      "\u001b[1;32mC:\\anaconda\\lib\\site-packages\\pandas\\util\\_decorators.py\u001b[0m in \u001b[0;36mwrapper\u001b[1;34m(*args, **kwargs)\u001b[0m\n\u001b[0;32m    294\u001b[0m                 )\n\u001b[0;32m    295\u001b[0m                 \u001b[0mwarnings\u001b[0m\u001b[1;33m.\u001b[0m\u001b[0mwarn\u001b[0m\u001b[1;33m(\u001b[0m\u001b[0mmsg\u001b[0m\u001b[1;33m,\u001b[0m \u001b[0mFutureWarning\u001b[0m\u001b[1;33m,\u001b[0m \u001b[0mstacklevel\u001b[0m\u001b[1;33m=\u001b[0m\u001b[0mstacklevel\u001b[0m\u001b[1;33m)\u001b[0m\u001b[1;33m\u001b[0m\u001b[1;33m\u001b[0m\u001b[0m\n\u001b[1;32m--> 296\u001b[1;33m             \u001b[1;32mreturn\u001b[0m \u001b[0mfunc\u001b[0m\u001b[1;33m(\u001b[0m\u001b[1;33m*\u001b[0m\u001b[0margs\u001b[0m\u001b[1;33m,\u001b[0m \u001b[1;33m**\u001b[0m\u001b[0mkwargs\u001b[0m\u001b[1;33m)\u001b[0m\u001b[1;33m\u001b[0m\u001b[1;33m\u001b[0m\u001b[0m\n\u001b[0m\u001b[0;32m    297\u001b[0m \u001b[1;33m\u001b[0m\u001b[0m\n\u001b[0;32m    298\u001b[0m         \u001b[1;32mreturn\u001b[0m \u001b[0mwrapper\u001b[0m\u001b[1;33m\u001b[0m\u001b[1;33m\u001b[0m\u001b[0m\n",
      "\u001b[1;32mC:\\anaconda\\lib\\site-packages\\pandas\\io\\excel\\_base.py\u001b[0m in \u001b[0;36mread_excel\u001b[1;34m(io, sheet_name, header, names, index_col, usecols, squeeze, dtype, engine, converters, true_values, false_values, skiprows, nrows, na_values, keep_default_na, na_filter, verbose, parse_dates, date_parser, thousands, comment, skipfooter, convert_float, mangle_dupe_cols)\u001b[0m\n\u001b[0;32m    309\u001b[0m         )\n\u001b[0;32m    310\u001b[0m \u001b[1;33m\u001b[0m\u001b[0m\n\u001b[1;32m--> 311\u001b[1;33m     return io.parse(\n\u001b[0m\u001b[0;32m    312\u001b[0m         \u001b[0msheet_name\u001b[0m\u001b[1;33m=\u001b[0m\u001b[0msheet_name\u001b[0m\u001b[1;33m,\u001b[0m\u001b[1;33m\u001b[0m\u001b[1;33m\u001b[0m\u001b[0m\n\u001b[0;32m    313\u001b[0m         \u001b[0mheader\u001b[0m\u001b[1;33m=\u001b[0m\u001b[0mheader\u001b[0m\u001b[1;33m,\u001b[0m\u001b[1;33m\u001b[0m\u001b[1;33m\u001b[0m\u001b[0m\n",
      "\u001b[1;32mC:\\anaconda\\lib\\site-packages\\pandas\\io\\excel\\_base.py\u001b[0m in \u001b[0;36mparse\u001b[1;34m(self, sheet_name, header, names, index_col, usecols, squeeze, converters, true_values, false_values, skiprows, nrows, na_values, parse_dates, date_parser, thousands, comment, skipfooter, convert_float, mangle_dupe_cols, **kwds)\u001b[0m\n\u001b[0;32m    904\u001b[0m             \u001b[0mDataFrame\u001b[0m \u001b[1;32mfrom\u001b[0m \u001b[0mthe\u001b[0m \u001b[0mpassed\u001b[0m \u001b[1;32min\u001b[0m \u001b[0mExcel\u001b[0m \u001b[0mfile\u001b[0m\u001b[1;33m.\u001b[0m\u001b[1;33m\u001b[0m\u001b[1;33m\u001b[0m\u001b[0m\n\u001b[0;32m    905\u001b[0m         \"\"\"\n\u001b[1;32m--> 906\u001b[1;33m         return self._reader.parse(\n\u001b[0m\u001b[0;32m    907\u001b[0m             \u001b[0msheet_name\u001b[0m\u001b[1;33m=\u001b[0m\u001b[0msheet_name\u001b[0m\u001b[1;33m,\u001b[0m\u001b[1;33m\u001b[0m\u001b[1;33m\u001b[0m\u001b[0m\n\u001b[0;32m    908\u001b[0m             \u001b[0mheader\u001b[0m\u001b[1;33m=\u001b[0m\u001b[0mheader\u001b[0m\u001b[1;33m,\u001b[0m\u001b[1;33m\u001b[0m\u001b[1;33m\u001b[0m\u001b[0m\n",
      "\u001b[1;32mC:\\anaconda\\lib\\site-packages\\pandas\\io\\excel\\_base.py\u001b[0m in \u001b[0;36mparse\u001b[1;34m(self, sheet_name, header, names, index_col, usecols, squeeze, dtype, true_values, false_values, skiprows, nrows, na_values, verbose, parse_dates, date_parser, thousands, comment, skipfooter, convert_float, mangle_dupe_cols, **kwds)\u001b[0m\n\u001b[0;32m    439\u001b[0m                 \u001b[0msheet\u001b[0m \u001b[1;33m=\u001b[0m \u001b[0mself\u001b[0m\u001b[1;33m.\u001b[0m\u001b[0mget_sheet_by_name\u001b[0m\u001b[1;33m(\u001b[0m\u001b[0masheetname\u001b[0m\u001b[1;33m)\u001b[0m\u001b[1;33m\u001b[0m\u001b[1;33m\u001b[0m\u001b[0m\n\u001b[0;32m    440\u001b[0m             \u001b[1;32melse\u001b[0m\u001b[1;33m:\u001b[0m  \u001b[1;31m# assume an integer if not a string\u001b[0m\u001b[1;33m\u001b[0m\u001b[1;33m\u001b[0m\u001b[0m\n\u001b[1;32m--> 441\u001b[1;33m                 \u001b[0msheet\u001b[0m \u001b[1;33m=\u001b[0m \u001b[0mself\u001b[0m\u001b[1;33m.\u001b[0m\u001b[0mget_sheet_by_index\u001b[0m\u001b[1;33m(\u001b[0m\u001b[0masheetname\u001b[0m\u001b[1;33m)\u001b[0m\u001b[1;33m\u001b[0m\u001b[1;33m\u001b[0m\u001b[0m\n\u001b[0m\u001b[0;32m    442\u001b[0m \u001b[1;33m\u001b[0m\u001b[0m\n\u001b[0;32m    443\u001b[0m             \u001b[0mdata\u001b[0m \u001b[1;33m=\u001b[0m \u001b[0mself\u001b[0m\u001b[1;33m.\u001b[0m\u001b[0mget_sheet_data\u001b[0m\u001b[1;33m(\u001b[0m\u001b[0msheet\u001b[0m\u001b[1;33m,\u001b[0m \u001b[0mconvert_float\u001b[0m\u001b[1;33m)\u001b[0m\u001b[1;33m\u001b[0m\u001b[1;33m\u001b[0m\u001b[0m\n",
      "\u001b[1;32mC:\\anaconda\\lib\\site-packages\\pandas\\io\\excel\\_xlrd.py\u001b[0m in \u001b[0;36mget_sheet_by_index\u001b[1;34m(self, index)\u001b[0m\n\u001b[0;32m     45\u001b[0m \u001b[1;33m\u001b[0m\u001b[0m\n\u001b[0;32m     46\u001b[0m     \u001b[1;32mdef\u001b[0m \u001b[0mget_sheet_by_index\u001b[0m\u001b[1;33m(\u001b[0m\u001b[0mself\u001b[0m\u001b[1;33m,\u001b[0m \u001b[0mindex\u001b[0m\u001b[1;33m)\u001b[0m\u001b[1;33m:\u001b[0m\u001b[1;33m\u001b[0m\u001b[1;33m\u001b[0m\u001b[0m\n\u001b[1;32m---> 47\u001b[1;33m         \u001b[1;32mreturn\u001b[0m \u001b[0mself\u001b[0m\u001b[1;33m.\u001b[0m\u001b[0mbook\u001b[0m\u001b[1;33m.\u001b[0m\u001b[0msheet_by_index\u001b[0m\u001b[1;33m(\u001b[0m\u001b[0mindex\u001b[0m\u001b[1;33m)\u001b[0m\u001b[1;33m\u001b[0m\u001b[1;33m\u001b[0m\u001b[0m\n\u001b[0m\u001b[0;32m     48\u001b[0m \u001b[1;33m\u001b[0m\u001b[0m\n\u001b[0;32m     49\u001b[0m     \u001b[1;32mdef\u001b[0m \u001b[0mget_sheet_data\u001b[0m\u001b[1;33m(\u001b[0m\u001b[0mself\u001b[0m\u001b[1;33m,\u001b[0m \u001b[0msheet\u001b[0m\u001b[1;33m,\u001b[0m \u001b[0mconvert_float\u001b[0m\u001b[1;33m)\u001b[0m\u001b[1;33m:\u001b[0m\u001b[1;33m\u001b[0m\u001b[1;33m\u001b[0m\u001b[0m\n",
      "\u001b[1;32mC:\\anaconda\\lib\\site-packages\\xlrd\\book.py\u001b[0m in \u001b[0;36msheet_by_index\u001b[1;34m(self, sheetx)\u001b[0m\n\u001b[0;32m    464\u001b[0m         \u001b[1;33m:\u001b[0m\u001b[0mreturns\u001b[0m\u001b[1;33m:\u001b[0m \u001b[0mA\u001b[0m \u001b[1;33m:\u001b[0m\u001b[1;32mclass\u001b[0m\u001b[1;33m:\u001b[0m\u001b[0;31m`\u001b[0m\u001b[1;33m~\u001b[0m\u001b[0mxlrd\u001b[0m\u001b[1;33m.\u001b[0m\u001b[0msheet\u001b[0m\u001b[1;33m.\u001b[0m\u001b[0mSheet\u001b[0m\u001b[0;31m`\u001b[0m\u001b[1;33m.\u001b[0m\u001b[1;33m\u001b[0m\u001b[1;33m\u001b[0m\u001b[0m\n\u001b[0;32m    465\u001b[0m         \"\"\"\n\u001b[1;32m--> 466\u001b[1;33m         \u001b[1;32mreturn\u001b[0m \u001b[0mself\u001b[0m\u001b[1;33m.\u001b[0m\u001b[0m_sheet_list\u001b[0m\u001b[1;33m[\u001b[0m\u001b[0msheetx\u001b[0m\u001b[1;33m]\u001b[0m \u001b[1;32mor\u001b[0m \u001b[0mself\u001b[0m\u001b[1;33m.\u001b[0m\u001b[0mget_sheet\u001b[0m\u001b[1;33m(\u001b[0m\u001b[0msheetx\u001b[0m\u001b[1;33m)\u001b[0m\u001b[1;33m\u001b[0m\u001b[1;33m\u001b[0m\u001b[0m\n\u001b[0m\u001b[0;32m    467\u001b[0m \u001b[1;33m\u001b[0m\u001b[0m\n\u001b[0;32m    468\u001b[0m     \u001b[1;32mdef\u001b[0m \u001b[0msheet_by_name\u001b[0m\u001b[1;33m(\u001b[0m\u001b[0mself\u001b[0m\u001b[1;33m,\u001b[0m \u001b[0msheet_name\u001b[0m\u001b[1;33m)\u001b[0m\u001b[1;33m:\u001b[0m\u001b[1;33m\u001b[0m\u001b[1;33m\u001b[0m\u001b[0m\n",
      "\u001b[1;31mIndexError\u001b[0m: list index out of range"
     ]
    }
   ],
   "source": [
    "import pandas as pd\n",
    "f1= r\"D:\\과장\\1 1 부과자료\\2024년\\202403월/수도감면자료/2502월 수도요금+감면세대+상세조회 .xlsx\"\n",
    "df = pd.read_excel(f1,skiprows=6)\n",
    "print(df)\n",
    "#df.dropna(subset=['동', '호'],inplace=True)"
   ]
  }
 ],
 "metadata": {
  "kernelspec": {
   "display_name": "Python 3",
   "language": "python",
   "name": "python3"
  },
  "language_info": {
   "codemirror_mode": {
    "name": "ipython",
    "version": 3
   },
   "file_extension": ".py",
   "mimetype": "text/x-python",
   "name": "python",
   "nbconvert_exporter": "python",
   "pygments_lexer": "ipython3",
   "version": "3.8.5"
  }
 },
 "nbformat": 4,
 "nbformat_minor": 5
}
