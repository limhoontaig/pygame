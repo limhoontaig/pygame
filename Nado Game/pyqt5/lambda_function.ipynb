{
 "cells": [
  {
   "cell_type": "code",
   "execution_count": 2,
   "id": "23ee0621",
   "metadata": {
    "scrolled": true
   },
   "outputs": [
    {
     "name": "stdout",
     "output_type": "stream",
     "text": [
      "[2, 4, 6, 8, 10]\n"
     ]
    }
   ],
   "source": [
    "#lambda x : x*2\n",
    "\n",
    "result2 = list(map((lambda x : x * 2),[1, 2, 3, 4, 5]))\n",
    "print(result2)\n"
   ]
  },
  {
   "cell_type": "code",
   "execution_count": 9,
   "id": "8d49e311",
   "metadata": {},
   "outputs": [
    {
     "data": {
      "text/plain": [
       "[14, 15, 16]"
      ]
     },
     "execution_count": 9,
     "metadata": {},
     "output_type": "execute_result"
    }
   ],
   "source": [
    "def plus_ten(x):\n",
    "    return x + 10\n",
    "list(map(plus_ten, [4,5,6]))\n"
   ]
  },
  {
   "cell_type": "code",
   "execution_count": 6,
   "id": "75398fd1",
   "metadata": {},
   "outputs": [
    {
     "data": {
      "text/plain": [
       "20"
      ]
     },
     "execution_count": 6,
     "metadata": {},
     "output_type": "execute_result"
    }
   ],
   "source": [
    "plus_ten = lambda x: x+10\n",
    "plus_ten(10)"
   ]
  },
  {
   "cell_type": "code",
   "execution_count": 7,
   "id": "0aaebe56",
   "metadata": {},
   "outputs": [
    {
     "data": {
      "text/plain": [
       "110"
      ]
     },
     "execution_count": 7,
     "metadata": {},
     "output_type": "execute_result"
    }
   ],
   "source": [
    "(lambda x: x+10)(100)"
   ]
  },
  {
   "cell_type": "code",
   "execution_count": 34,
   "id": "18600ea8",
   "metadata": {},
   "outputs": [
    {
     "data": {
      "text/plain": [
       "[1, 4, 9, 16, 25]"
      ]
     },
     "execution_count": 34,
     "metadata": {},
     "output_type": "execute_result"
    }
   ],
   "source": [
    "result2 = list(map((lambda x : x**2),[1,2,3,4,5]))\n",
    "result2"
   ]
  },
  {
   "cell_type": "code",
   "execution_count": 6,
   "id": "41a995ab",
   "metadata": {
    "scrolled": false
   },
   "outputs": [
    {
     "ename": "ModuleNotFoundError",
     "evalue": "No module named 'PyQt5.OtCore'",
     "output_type": "error",
     "traceback": [
      "\u001b[1;31m---------------------------------------------------------------------------\u001b[0m",
      "\u001b[1;31mModuleNotFoundError\u001b[0m                       Traceback (most recent call last)",
      "\u001b[1;32m<ipython-input-6-fe592c69784a>\u001b[0m in \u001b[0;36m<module>\u001b[1;34m\u001b[0m\n\u001b[0;32m      2\u001b[0m \u001b[1;32mimport\u001b[0m \u001b[0mpandas\u001b[0m \u001b[1;32mas\u001b[0m \u001b[0mpd\u001b[0m\u001b[1;33m\u001b[0m\u001b[1;33m\u001b[0m\u001b[0m\n\u001b[0;32m      3\u001b[0m \u001b[1;32mfrom\u001b[0m \u001b[0mPyQt5\u001b[0m\u001b[1;33m.\u001b[0m\u001b[0mQtWidgets\u001b[0m \u001b[1;32mimport\u001b[0m  \u001b[1;33m*\u001b[0m\u001b[1;33m\u001b[0m\u001b[1;33m\u001b[0m\u001b[0m\n\u001b[1;32m----> 4\u001b[1;33m \u001b[1;32mfrom\u001b[0m \u001b[0mPyQt5\u001b[0m\u001b[1;33m.\u001b[0m\u001b[0mOtCore\u001b[0m \u001b[1;32mimport\u001b[0m \u001b[1;33m*\u001b[0m\u001b[1;31m#Qt\u001b[0m\u001b[1;33m\u001b[0m\u001b[1;33m\u001b[0m\u001b[0m\n\u001b[0m\u001b[0;32m      5\u001b[0m \u001b[1;33m\u001b[0m\u001b[0m\n\u001b[0;32m      6\u001b[0m \u001b[1;32mclass\u001b[0m \u001b[0mMain\u001b[0m\u001b[1;33m(\u001b[0m\u001b[0mQDialog\u001b[0m\u001b[1;33m)\u001b[0m\u001b[1;33m:\u001b[0m\u001b[1;33m\u001b[0m\u001b[1;33m\u001b[0m\u001b[0m\n",
      "\u001b[1;31mModuleNotFoundError\u001b[0m: No module named 'PyQt5.OtCore'"
     ]
    }
   ],
   "source": [
    "import sys\n",
    "import pandas as pd\n",
    "from PyQt5.QtWidgets import  *\n",
    "from PyQt5.OtCore import *#Qt\n",
    "\n",
    "class Main(QDialog):\n",
    "    def __init__(self):\n",
    "        super().__init__()\n",
    "        self.initUI()\n",
    "\n",
    "    def initUI(self):\n",
    "        layout = QVBoxLayout()\n",
    "\n",
    "        '''Blank Table Widget'''\n",
    "        table_widget = QTableWidget()\n",
    "\n",
    "        '''PushButton for Load CSV file'''\n",
    "        button_load = QPushButton(\"Load\")\n",
    "        button_load.clicked.connect(lambda state, widget = table_widget: self.slot_button_load(state, widget))\n",
    "\n",
    "        '''PushButton for Save modified CSV'''\n",
    "        button_save = QPushButton(\"Save\")\n",
    "        button_save.clicked.connect(lambda state, widget = table_widget: self.slot_button_save(state, widget))\n",
    "\n",
    "        layout.addWidget(table_widget)\n",
    "        layout.addWidget(button_load)\n",
    "        layout.addWidget(button_save)\n",
    "\n",
    "        self.setLayout(layout)\n",
    "        self.resize(500, 500)\n",
    "        self.show()\n",
    "\n",
    "\n",
    "    def slot_button_load(self, state, widget):\n",
    "        filename = QFileDialog.getOpenFileName(self, 'Open file', './')\n",
    "\n",
    "        if filename[0]:\n",
    "            df = pd.read_csv(filename[0])#, index_col = 0)\n",
    "            self.create_table_widget(widget, df)\n",
    "\n",
    "\n",
    "    def create_table_widget(self, widget, df):\n",
    "        widget.setRowCount(len(df.index))\n",
    "        widget.setColumnCount(len(df.columns))\n",
    "        widget.setHorizontalHeaderLabels(df.columns)\n",
    "        #widget.setVerticalHeaderLabels(df.index)\n",
    "\n",
    "        for row_index, row in enumerate(df.index):\n",
    "            for col_index, column in enumerate(df.columns):\n",
    "                value = df.loc[row][column]\n",
    "                item = QTableWidgetItem(str(value))\n",
    "                item.setTextAlignment(Qt.AlignCenter)\n",
    "                widget.setItem(row_index, col_index, item)\n",
    "\n",
    "\n",
    "    def slot_button_save(self, state, widget):\n",
    "        for row_index in range(widget.rowCount()):\n",
    "            for col_index in range(widget.columnCount()):\n",
    "                item = widget.item(row_index, col_index)\n",
    "                content = item.text()\n",
    "                print(content)\n",
    "\n",
    "\n",
    "if __name__ == '__main__':\n",
    "    app = QApplication(sys.argv)\n",
    "    ex = Main()\n",
    "    sys.exit(app.exec_())"
   ]
  },
  {
   "cell_type": "code",
   "execution_count": null,
   "id": "f06a8f4c",
   "metadata": {},
   "outputs": [],
   "source": []
  },
  {
   "cell_type": "code",
   "execution_count": null,
   "id": "dbbf49a3",
   "metadata": {},
   "outputs": [],
   "source": []
  },
  {
   "cell_type": "code",
   "execution_count": null,
   "id": "858729bf",
   "metadata": {},
   "outputs": [],
   "source": []
  },
  {
   "cell_type": "code",
   "execution_count": null,
   "id": "4626804a",
   "metadata": {},
   "outputs": [],
   "source": []
  },
  {
   "cell_type": "code",
   "execution_count": null,
   "id": "20ea9891",
   "metadata": {},
   "outputs": [],
   "source": []
  },
  {
   "cell_type": "code",
   "execution_count": null,
   "id": "47718f30",
   "metadata": {},
   "outputs": [],
   "source": []
  },
  {
   "cell_type": "code",
   "execution_count": null,
   "id": "18986c47",
   "metadata": {},
   "outputs": [],
   "source": []
  }
 ],
 "metadata": {
  "kernelspec": {
   "display_name": "Python 3",
   "language": "python",
   "name": "python3"
  },
  "language_info": {
   "codemirror_mode": {
    "name": "ipython",
    "version": 3
   },
   "file_extension": ".py",
   "mimetype": "text/x-python",
   "name": "python",
   "nbconvert_exporter": "python",
   "pygments_lexer": "ipython3",
   "version": "3.8.8"
  }
 },
 "nbformat": 4,
 "nbformat_minor": 5
}
