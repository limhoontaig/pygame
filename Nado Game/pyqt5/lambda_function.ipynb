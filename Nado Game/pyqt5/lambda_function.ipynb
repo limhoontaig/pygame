{
 "cells": [
  {
   "cell_type": "code",
   "execution_count": null,
   "metadata": {
    "scrolled": true
   },
   "outputs": [],
   "source": [
    "#lambda x : x*2\n",
    "\n",
    "result2 = list(map((lambda x : x * 2),[1, 2, 3, 4, 5]))\n",
    "print(result2)\n"
   ]
  },
  {
   "cell_type": "code",
   "execution_count": null,
   "metadata": {},
   "outputs": [],
   "source": [
    "def plus_ten(x):\n",
    "    return x + 10\n",
    "list(map(plus_ten, [4,5,6]))\n"
   ]
  },
  {
   "cell_type": "code",
   "execution_count": null,
   "metadata": {},
   "outputs": [],
   "source": [
    "plus_ten = lambda x: x+10\n",
    "plus_ten(10)"
   ]
  },
  {
   "cell_type": "code",
   "execution_count": null,
   "metadata": {},
   "outputs": [],
   "source": [
    "(lambda x: x+10)(100)"
   ]
  },
  {
   "cell_type": "code",
   "execution_count": null,
   "metadata": {},
   "outputs": [],
   "source": [
    "result2 = list(map((lambda x : x**2),[1,2,3,4,5]))\n",
    "result2"
   ]
  },
  {
   "cell_type": "code",
   "execution_count": null,
   "metadata": {
    "scrolled": false
   },
   "outputs": [],
   "source": [
    "import sys\n",
    "import pandas as pd\n",
    "from PyQt5.QtWidgets import  *\n",
    "from PyQt5.OtCore import *#Qt\n",
    "\n",
    "class Main(QDialog):\n",
    "    def __init__(self):\n",
    "        super().__init__()\n",
    "        self.initUI()\n",
    "\n",
    "    def initUI(self):\n",
    "        layout = QVBoxLayout()\n",
    "\n",
    "        '''Blank Table Widget'''\n",
    "        table_widget = QTableWidget()\n",
    "\n",
    "        '''PushButton for Load CSV file'''\n",
    "        button_load = QPushButton(\"Load\")\n",
    "        button_load.clicked.connect(lambda state, widget = table_widget: self.slot_button_load(state, widget))\n",
    "\n",
    "        '''PushButton for Save modified CSV'''\n",
    "        button_save = QPushButton(\"Save\")\n",
    "        button_save.clicked.connect(lambda state, widget = table_widget: self.slot_button_save(state, widget))\n",
    "\n",
    "        layout.addWidget(table_widget)\n",
    "        layout.addWidget(button_load)\n",
    "        layout.addWidget(button_save)\n",
    "\n",
    "        self.setLayout(layout)\n",
    "        self.resize(500, 500)\n",
    "        self.show()\n",
    "\n",
    "\n",
    "    def slot_button_load(self, state, widget):\n",
    "        filename = QFileDialog.getOpenFileName(self, 'Open file', './')\n",
    "\n",
    "        if filename[0]:\n",
    "            df = pd.read_csv(filename[0])#, index_col = 0)\n",
    "            self.create_table_widget(widget, df)\n",
    "\n",
    "\n",
    "    def create_table_widget(self, widget, df):\n",
    "        widget.setRowCount(len(df.index))\n",
    "        widget.setColumnCount(len(df.columns))\n",
    "        widget.setHorizontalHeaderLabels(df.columns)\n",
    "        #widget.setVerticalHeaderLabels(df.index)\n",
    "\n",
    "        for row_index, row in enumerate(df.index):\n",
    "            for col_index, column in enumerate(df.columns):\n",
    "                value = df.loc[row][column]\n",
    "                item = QTableWidgetItem(str(value))\n",
    "                item.setTextAlignment(Qt.AlignCenter)\n",
    "                widget.setItem(row_index, col_index, item)\n",
    "\n",
    "\n",
    "    def slot_button_save(self, state, widget):\n",
    "        for row_index in range(widget.rowCount()):\n",
    "            for col_index in range(widget.columnCount()):\n",
    "                item = widget.item(row_index, col_index)\n",
    "                content = item.text()\n",
    "                print(content)\n",
    "\n",
    "\n",
    "if __name__ == '__main__':\n",
    "    app = QApplication(sys.argv)\n",
    "    ex = Main()\n",
    "    sys.exit(app.exec_())"
   ]
  },
  {
   "cell_type": "code",
   "execution_count": 1,
   "metadata": {},
   "outputs": [
    {
     "data": {
      "text/plain": [
       "['aaa', 'iaa', 'rbb', 'pbb', 'lbb', 'aaa', 'nbb', 'eaa']"
      ]
     },
     "execution_count": 1,
     "metadata": {},
     "output_type": "execute_result"
    }
   ],
   "source": [
    "def add_ab(word):\n",
    "    if word in ['a', 'e', 'i', 'o', 'u']: return word + 'aa'\n",
    "    else: return word + 'bb'\n",
    "\n",
    "[add_ab(x) for x in 'airplane']"
   ]
  },
  {
   "cell_type": "code",
   "execution_count": 12,
   "metadata": {},
   "outputs": [
    {
     "data": {
      "text/plain": [
       "[['대가족요금', '출산가구할인금액', '다자녀할인금액', '의료기기할인금액'],\n",
       " ['1', '2', '3', '4'],\n",
       " {'대가족요금': '1', '출산가구할인금액': '2', '다자녀할인금액': '3', '의료기기할인금액': '4'},\n",
       " ['독립유공자할인금액',\n",
       "  '국가유공 할인',\n",
       "  '민주유공 할인',\n",
       "  '장애인할인요금',\n",
       "  '사회복지할인금액',\n",
       "  '기초수급할인금액',\n",
       "  '기초주거교육할인',\n",
       "  '차상위계층할인금액'],\n",
       " ['A', 'B', 'C', 'D', 'E', 'G', 'H', 'I'],\n",
       " {'독립유공자할인금액': 'A',\n",
       "  '국가유공 할인': 'B',\n",
       "  '민주유공 할인': 'C',\n",
       "  '장애인할인요금': 'D',\n",
       "  '사회복지할인금액': 'E',\n",
       "  '기초수급할인금액': 'G',\n",
       "  '기초주거교육할인': 'H',\n",
       "  '차상위계층할인금액': 'I'}]"
      ]
     },
     "execution_count": 12,
     "metadata": {},
     "output_type": "execute_result"
    }
   ],
   "source": [
    "import pandas as pd\n",
    "#file = self.lineEdit_15.text()\n",
    "kind_code = ['가족','복지']\n",
    "file = r\"D:/과장/1 1 부과자료/2022년/Templates/xperp_code_comparasion_table.xlsx\"\n",
    "with pd.ExcelFile(file) as f:\n",
    "    df = pd.read_excel(f, sheet_name = 1)\n",
    "sheet = f.sheet_names\n",
    "df.dropna(inplace = True)\n",
    "code_dict = []\n",
    "for c in kind_code:\n",
    "    is_elec = df['분류'] == c\n",
    "    df_elec = df[is_elec]\n",
    "    kind_list = df_elec['종류'].tolist()\n",
    "    code_list = df_elec['코드'].tolist()\n",
    "    kind_dict = dict(zip(kind_list, code_list))\n",
    "    code_dict.append(kind_list)\n",
    "    code_dict.append(code_list)\n",
    "    code_dict.append(kind_dict)\n",
    "code_dict\n"
   ]
  },
  {
   "cell_type": "code",
   "execution_count": 21,
   "metadata": {},
   "outputs": [
    {
     "name": "stdout",
     "output_type": "stream",
     "text": [
      "       동     호  대상자명      할인종류      장애종류  장애등급   할인요금\n",
      "0    501   401   NaN   장애인할인요금   장애인할인요금   NaN -16516\n",
      "1    501   501   NaN   다자녀할인금액   다자녀할인금액   NaN -11997\n",
      "2    501   804   NaN   장애인할인요금   장애인할인요금   NaN -16516\n",
      "3    502   202   NaN   다자녀할인금액   다자녀할인금액   NaN -10745\n",
      "4    502   301   NaN   다자녀할인금액   다자녀할인금액   NaN -10513\n",
      "..   ...   ...   ...       ...       ...   ...    ...\n",
      "118  515   201   NaN   다자녀할인금액   다자녀할인금액   NaN -16000\n",
      "119  515   203   NaN   다자녀할인금액   다자녀할인금액   NaN -16000\n",
      "120  515   603   NaN  의료기기할인금액  의료기기할인금액   NaN -55452\n",
      "121  515   704   NaN  출산가구할인금액  출산가구할인금액   NaN -13989\n",
      "122  515  1002   NaN   다자녀할인금액   다자녀할인금액   NaN -16000\n",
      "\n",
      "[123 rows x 7 columns]\n"
     ]
    },
    {
     "data": {
      "text/plain": [
       "array(['장애인할인요금', '다자녀할인금액', '200kWh이하감액', '대가족요금', '의료기기할인금액',\n",
       "       '기초수급할인금액', '출산가구할인금액', '기초주거교육할인', '차상위계층할인금액', '사회복지할인금액',\n",
       "       '독립유공자할인금액'], dtype=object)"
      ]
     },
     "execution_count": 21,
     "metadata": {},
     "output_type": "execute_result"
    }
   ],
   "source": [
    "f1= r\"D:\\과장\\1 1 부과자료\\2022년\\202206월/한전부과자료/0144666733_202206_20220614.xls\"\n",
    "df = pd.read_excel(f1,skiprows=2)\n",
    "print(df)\n",
    "df.dropna(subset=['동', '호'],inplace=True)\n",
    "con = df[df['할인종류'].str.contains('추가복지감액')].index\n",
    "df.drop(con, inplace=True)\n",
    "df_w = df[['동', '호','할인종류','할인요금']].copy()\n",
    "df_w['할인종류'].unique()"
   ]
  },
  {
   "cell_type": "code",
   "execution_count": 24,
   "metadata": {},
   "outputs": [
    {
     "name": "stdout",
     "output_type": "stream",
     "text": [
      "[0, 0, 0, 0, 0, 0, 0, 0, 0, 0]\n"
     ]
    },
    {
     "data": {
      "text/plain": [
       "[0, 1, 2, 3, 4, 5, 6, 7, 8, 9]"
      ]
     },
     "execution_count": 24,
     "metadata": {},
     "output_type": "execute_result"
    }
   ],
   "source": [
    "arr = [0] * 10\n",
    "print(arr)\n",
    "for i in range(10):\n",
    "    arr[i] = i\n",
    "arr"
   ]
  },
  {
   "cell_type": "code",
   "execution_count": 30,
   "metadata": {},
   "outputs": [
    {
     "data": {
      "text/plain": [
       "[0, 1, 2, 3, 4, 5, 6, 7, 8, 9]"
      ]
     },
     "execution_count": 30,
     "metadata": {},
     "output_type": "execute_result"
    }
   ],
   "source": [
    "arr = [i for i in range(10)]\n",
    "arr"
   ]
  },
  {
   "cell_type": "code",
   "execution_count": 46,
   "metadata": {},
   "outputs": [
    {
     "data": {
      "text/plain": [
       "[[0, 0, 0, 0, 545],\n",
       " [0, 0, 0, 0, 545],\n",
       " [0, 0, 0, 0, 545],\n",
       " [0, 0, 0, 0, 545],\n",
       " [0, 0, 0, 0, 545]]"
      ]
     },
     "execution_count": 46,
     "metadata": {},
     "output_type": "execute_result"
    }
   ],
   "source": [
    "arr = [[0] * 5] * 5\n",
    "arr[4][4] = 545\n",
    "arr"
   ]
  },
  {
   "cell_type": "code",
   "execution_count": 44,
   "metadata": {},
   "outputs": [
    {
     "data": {
      "text/plain": [
       "[[0, 0, 545, 0], [0, 0, 0, 0], [0, 0, 0, 0]]"
      ]
     },
     "execution_count": 44,
     "metadata": {},
     "output_type": "execute_result"
    }
   ],
   "source": [
    "arr = [[0 for col in range(4)] for row in range(3)]\n",
    "arr[0][2] = 545\n",
    "arr"
   ]
  },
  {
   "cell_type": "code",
   "execution_count": 52,
   "metadata": {},
   "outputs": [
    {
     "name": "stdout",
     "output_type": "stream",
     "text": [
      "[[1, 2, 3], [4, 5, 6], [7, 8, 9]]\n",
      "[[1, 2, 3], [4, 5, 6], [7, 8, 9]]\n",
      "[(1, 4, 7), (2, 5, 8), (3, 6, 9)]\n",
      "(1, 4, 7)\n",
      "(2, 5, 8)\n",
      "(3, 6, 9)\n"
     ]
    }
   ],
   "source": [
    "matrix = [[1,2,3], [4,5,6], [7,8,9]]\n",
    "\n",
    "result_row = [row for row in matrix]\n",
    "\n",
    "print(result_row)\n",
    "\n",
    "result_row = []\n",
    "for row in range(0, len(matrix)): # 행 뽑기\n",
    "    result_row.append(matrix[row])\n",
    "print(result_row)\n",
    " \n",
    "result_col = []\n",
    "for row in zip(*matrix):            # 열 뽑기\n",
    "    result_col.append(row)\n",
    "print(result_col)\n",
    "\n",
    "result_col =[]\n",
    "\n",
    "zip_ = zip(*matrix)\n",
    "for item in zip_:\n",
    "    print(item)\n",
    "\n"
   ]
  },
  {
   "cell_type": "code",
   "execution_count": 57,
   "metadata": {},
   "outputs": [
    {
     "data": {
      "text/plain": [
       "{'apple': 'red', 'banana': 'yellow', 'orange': 'orange'}"
      ]
     },
     "execution_count": 57,
     "metadata": {},
     "output_type": "execute_result"
    }
   ],
   "source": [
    "# 3개의 리스트\n",
    "num = [1, 2, 3]\n",
    "fruit = ['apple', 'banana', 'orange']\n",
    "color = ['red', 'yellow', 'orange']\n",
    "zip_list = zip(num, fruit, color)\n",
    "# zip함수를 이용한 출력값\n",
    "#[(1, 'apple', 'red'), (2, 'banana', 'yellow'), (3, 'orange', 'orange')]\n",
    "list(zip_list)\n",
    "zip_dict = dict(zip(fruit, color))\n",
    "zip_dict"
   ]
  },
  {
   "cell_type": "code",
   "execution_count": 58,
   "metadata": {},
   "outputs": [
    {
     "name": "stdout",
     "output_type": "stream",
     "text": [
      "unnamed args: (1, 2)\n",
      "keyword args: {'key1': 'word1', 'key2': 'word2'}\n"
     ]
    }
   ],
   "source": [
    "def magic(*args, **kwargs):\n",
    "    print(\"unnamed args:\", args)\n",
    "    print(\"keyword args:\", kwargs)\n",
    "\n",
    "magic(1, 2, key1=\"word1\", key2=\"word2\")\n",
    "# unnamed args: (1, 2)\n",
    "# keyword args: {'key1': 'word1', 'key2': 'word2'}"
   ]
  },
  {
   "cell_type": "code",
   "execution_count": 75,
   "metadata": {},
   "outputs": [
    {
     "name": "stdout",
     "output_type": "stream",
     "text": [
      "[('karl', 30), ('john', 20), ('adle', 25)]\n",
      "<zip object at 0x0000024C59617A40>\n",
      "('karl', 'john', 'adle')\n",
      "(30, 20, 25)\n"
     ]
    }
   ],
   "source": [
    "names = ['karl', 'john', 'adle']\n",
    "ages = [30, 20, 25]\n",
    "\n",
    "# 묶기\n",
    "pairs = zip(names, ages)\n",
    "\n",
    "print(l)\n",
    "print(pairs)\n",
    "# unpacking\n",
    "names, ages = zip(*pairs)\n",
    "list(names)\n",
    "print(names)\n",
    "print(ages)"
   ]
  },
  {
   "cell_type": "code",
   "execution_count": null,
   "metadata": {},
   "outputs": [],
   "source": []
  },
  {
   "cell_type": "code",
   "execution_count": null,
   "metadata": {},
   "outputs": [],
   "source": []
  }
 ],
 "metadata": {
  "kernelspec": {
   "display_name": "Python 3",
   "language": "python",
   "name": "python3"
  },
  "language_info": {
   "codemirror_mode": {
    "name": "ipython",
    "version": 3
   },
   "file_extension": ".py",
   "mimetype": "text/x-python",
   "name": "python",
   "nbconvert_exporter": "python",
   "pygments_lexer": "ipython3",
   "version": "3.8.5"
  }
 },
 "nbformat": 4,
 "nbformat_minor": 5
}
