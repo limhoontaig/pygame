{
 "cells": [
  {
   "cell_type": "code",
   "execution_count": null,
   "metadata": {
    "scrolled": true
   },
   "outputs": [],
   "source": [
    "#lambda x : x*2\n",
    "\n",
    "result2 = list(map((lambda x : x * 2),[1, 2, 3, 4, 5]))\n",
    "print(result2)\n"
   ]
  },
  {
   "cell_type": "code",
   "execution_count": null,
   "metadata": {},
   "outputs": [],
   "source": [
    "def plus_ten(x):\n",
    "    return x + 10\n",
    "list(map(plus_ten, [4,5,6]))\n"
   ]
  },
  {
   "cell_type": "code",
   "execution_count": null,
   "metadata": {},
   "outputs": [],
   "source": [
    "plus_ten = lambda x: x+10\n",
    "plus_ten(10)"
   ]
  },
  {
   "cell_type": "code",
   "execution_count": null,
   "metadata": {},
   "outputs": [],
   "source": [
    "(lambda x: x+10)(100)"
   ]
  },
  {
   "cell_type": "code",
   "execution_count": null,
   "metadata": {},
   "outputs": [],
   "source": [
    "result2 = list(map((lambda x : x**2),[1,2,3,4,5]))\n",
    "result2"
   ]
  },
  {
   "cell_type": "code",
   "execution_count": null,
   "metadata": {
    "scrolled": false
   },
   "outputs": [],
   "source": [
    "import sys\n",
    "import pandas as pd\n",
    "from PyQt5.QtWidgets import  *\n",
    "from PyQt5.OtCore import *#Qt\n",
    "\n",
    "class Main(QDialog):\n",
    "    def __init__(self):\n",
    "        super().__init__()\n",
    "        self.initUI()\n",
    "\n",
    "    def initUI(self):\n",
    "        layout = QVBoxLayout()\n",
    "\n",
    "        '''Blank Table Widget'''\n",
    "        table_widget = QTableWidget()\n",
    "\n",
    "        '''PushButton for Load CSV file'''\n",
    "        button_load = QPushButton(\"Load\")\n",
    "        button_load.clicked.connect(lambda state, widget = table_widget: self.slot_button_load(state, widget))\n",
    "\n",
    "        '''PushButton for Save modified CSV'''\n",
    "        button_save = QPushButton(\"Save\")\n",
    "        button_save.clicked.connect(lambda state, widget = table_widget: self.slot_button_save(state, widget))\n",
    "\n",
    "        layout.addWidget(table_widget)\n",
    "        layout.addWidget(button_load)\n",
    "        layout.addWidget(button_save)\n",
    "\n",
    "        self.setLayout(layout)\n",
    "        self.resize(500, 500)\n",
    "        self.show()\n",
    "\n",
    "\n",
    "    def slot_button_load(self, state, widget):\n",
    "        filename = QFileDialog.getOpenFileName(self, 'Open file', './')\n",
    "\n",
    "        if filename[0]:\n",
    "            df = pd.read_csv(filename[0])#, index_col = 0)\n",
    "            self.create_table_widget(widget, df)\n",
    "\n",
    "\n",
    "    def create_table_widget(self, widget, df):\n",
    "        widget.setRowCount(len(df.index))\n",
    "        widget.setColumnCount(len(df.columns))\n",
    "        widget.setHorizontalHeaderLabels(df.columns)\n",
    "        #widget.setVerticalHeaderLabels(df.index)\n",
    "\n",
    "        for row_index, row in enumerate(df.index):\n",
    "            for col_index, column in enumerate(df.columns):\n",
    "                value = df.loc[row][column]\n",
    "                item = QTableWidgetItem(str(value))\n",
    "                item.setTextAlignment(Qt.AlignCenter)\n",
    "                widget.setItem(row_index, col_index, item)\n",
    "\n",
    "\n",
    "    def slot_button_save(self, state, widget):\n",
    "        for row_index in range(widget.rowCount()):\n",
    "            for col_index in range(widget.columnCount()):\n",
    "                item = widget.item(row_index, col_index)\n",
    "                content = item.text()\n",
    "                print(content)\n",
    "\n",
    "\n",
    "if __name__ == '__main__':\n",
    "    app = QApplication(sys.argv)\n",
    "    ex = Main()\n",
    "    sys.exit(app.exec_())"
   ]
  },
  {
   "cell_type": "code",
   "execution_count": 1,
   "metadata": {},
   "outputs": [
    {
     "data": {
      "text/plain": [
       "['aaa', 'iaa', 'rbb', 'pbb', 'lbb', 'aaa', 'nbb', 'eaa']"
      ]
     },
     "execution_count": 1,
     "metadata": {},
     "output_type": "execute_result"
    }
   ],
   "source": [
    "def add_ab(word):\n",
    "    if word in ['a', 'e', 'i', 'o', 'u']: return word + 'aa'\n",
    "    else: return word + 'bb'\n",
    "\n",
    "[add_ab(x) for x in 'airplane']"
   ]
  },
  {
   "cell_type": "code",
   "execution_count": 12,
   "metadata": {},
   "outputs": [
    {
     "data": {
      "text/plain": [
       "[['대가족요금', '출산가구할인금액', '다자녀할인금액', '의료기기할인금액'],\n",
       " ['1', '2', '3', '4'],\n",
       " {'대가족요금': '1', '출산가구할인금액': '2', '다자녀할인금액': '3', '의료기기할인금액': '4'},\n",
       " ['독립유공자할인금액',\n",
       "  '국가유공 할인',\n",
       "  '민주유공 할인',\n",
       "  '장애인할인요금',\n",
       "  '사회복지할인금액',\n",
       "  '기초수급할인금액',\n",
       "  '기초주거교육할인',\n",
       "  '차상위계층할인금액'],\n",
       " ['A', 'B', 'C', 'D', 'E', 'G', 'H', 'I'],\n",
       " {'독립유공자할인금액': 'A',\n",
       "  '국가유공 할인': 'B',\n",
       "  '민주유공 할인': 'C',\n",
       "  '장애인할인요금': 'D',\n",
       "  '사회복지할인금액': 'E',\n",
       "  '기초수급할인금액': 'G',\n",
       "  '기초주거교육할인': 'H',\n",
       "  '차상위계층할인금액': 'I'}]"
      ]
     },
     "execution_count": 12,
     "metadata": {},
     "output_type": "execute_result"
    }
   ],
   "source": [
    "import pandas as pd\n",
    "#file = self.lineEdit_15.text()\n",
    "kind_code = ['가족','복지']\n",
    "file = r\"D:/과장/1 1 부과자료/2022년/Templates/xperp_code_comparasion_table.xlsx\"\n",
    "with pd.ExcelFile(file) as f:\n",
    "    df = pd.read_excel(f, sheet_name = 1)\n",
    "sheet = f.sheet_names\n",
    "df.dropna(inplace = True)\n",
    "code_dict = []\n",
    "for c in kind_code:\n",
    "    is_elec = df['분류'] == c\n",
    "    df_elec = df[is_elec]\n",
    "    kind_list = df_elec['종류'].tolist()\n",
    "    code_list = df_elec['코드'].tolist()\n",
    "    kind_dict = dict(zip(kind_list, code_list))\n",
    "    code_dict.append(kind_list)\n",
    "    code_dict.append(code_list)\n",
    "    code_dict.append(kind_dict)\n",
    "code_dict\n"
   ]
  },
  {
   "cell_type": "code",
   "execution_count": null,
   "metadata": {},
   "outputs": [],
   "source": []
  },
  {
   "cell_type": "code",
   "execution_count": null,
   "metadata": {},
   "outputs": [],
   "source": []
  },
  {
   "cell_type": "code",
   "execution_count": null,
   "metadata": {},
   "outputs": [],
   "source": []
  },
  {
   "cell_type": "code",
   "execution_count": null,
   "metadata": {},
   "outputs": [],
   "source": []
  },
  {
   "cell_type": "code",
   "execution_count": null,
   "metadata": {},
   "outputs": [],
   "source": []
  },
  {
   "cell_type": "code",
   "execution_count": null,
   "metadata": {},
   "outputs": [],
   "source": []
  }
 ],
 "metadata": {
  "kernelspec": {
   "display_name": "Python 3",
   "language": "python",
   "name": "python3"
  },
  "language_info": {
   "codemirror_mode": {
    "name": "ipython",
    "version": 3
   },
   "file_extension": ".py",
   "mimetype": "text/x-python",
   "name": "python",
   "nbconvert_exporter": "python",
   "pygments_lexer": "ipython3",
   "version": "3.8.5"
  }
 },
 "nbformat": 4,
 "nbformat_minor": 5
}
