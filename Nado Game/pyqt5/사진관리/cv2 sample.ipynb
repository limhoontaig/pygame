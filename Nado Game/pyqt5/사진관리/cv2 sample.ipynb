{
 "cells": [
  {
   "cell_type": "code",
   "execution_count": null,
   "metadata": {
    "scrolled": true
   },
   "outputs": [],
   "source": [
    "import os\n",
    "#import shutil\n",
    "root = ['E:\\\\source\\\\pygame\\\\Nado Game\\\\pyqt5\\\\사진관리\\\\data',]\n",
    "\n",
    "for r in root:\n",
    "    dirs = os.listdir(r)\n",
    "    for dir in dirs:\n",
    "        path = os.path.join(r, dir)\n",
    "        print(path)\n",
    "        #shutil.rmtree(path)"
   ]
  },
  {
   "cell_type": "code",
   "execution_count": null,
   "metadata": {},
   "outputs": [],
   "source": [
    "a = '%'\n",
    "b = 'text'\n",
    "c = '%'\n",
    "a+b+c"
   ]
  },
  {
   "cell_type": "code",
   "execution_count": null,
   "metadata": {},
   "outputs": [],
   "source": [
    "# Python program to explain cv2.imread() method\n",
    "\n",
    "# importing cv2\n",
    "import cv2\n",
    "import numpy as np\n",
    "import pathlib\n",
    "\n",
    "\n",
    "# path\n",
    "path = r'E:\\20091017_134630_P1000202.JPG'\n",
    "path = r'E:\\source\\pygame\\Nado Game\\pyqt5\\사진관리\\data\\20220929_161911.jpg'\n",
    "path = str(pathlib.Path(path,))\n",
    "img_array = np.fromfile(path, np.uint8)\n",
    "img = cv2.imdecode(img_array, cv2.IMREAD_COLOR)\n",
    "# Using cv2.imread() method\n",
    "#img = cv2.imread(path, cv2.IMREAD_COLOR)\n",
    "\n",
    "# Displaying the image\n",
    "cv2.imshow('image', img)\n",
    "cv2.waitKey()\n",
    "\n",
    "cv2.destroyAllWindows()\n"
   ]
  },
  {
   "cell_type": "code",
   "execution_count": null,
   "metadata": {},
   "outputs": [],
   "source": [
    "import cv2\n",
    "path = r'E:\\20091017_134630_P1000202.JPG'\n",
    "import os\n",
    "#import shutil\n",
    "root = ['E:\\\\source\\\\pygame\\\\Nado Game\\\\pyqt5\\\\사진관리\\\\data',]\n",
    "\n",
    "for r in root:\n",
    "    dirs = os.listdir(r)\n",
    "    for dir in dirs:\n",
    "        path = os.path.join(r, dir)\n",
    "\n",
    "        #src = cv2.imread(path, cv2.IMREAD_COLOR)\n",
    "        img_array = np.fromfile(path, np.uint8)\n",
    "        src = cv2.imdecode(img_array, cv2.IMREAD_COLOR)\n",
    "        dst = cv2.resize(src, dsize=(640, 480), interpolation=cv2.INTER_AREA)\n",
    "        dst2 = cv2.resize(src, dsize=(0, 0), fx=0.1, fy=0.1, interpolation=cv2.INTER_LINEAR)\n",
    "\n",
    "        #cv2.imshow(\"src\", src)\n",
    "        #cv2.imshow(\"dst\", dst)\n",
    "        cv2.imshow(\"dst2\", dst2)\n",
    "        cv2.waitKey(2000)\n",
    "        cv2.destroyAllWindows()"
   ]
  }
 ],
 "metadata": {
  "kernelspec": {
   "display_name": "Python 3",
   "language": "python",
   "name": "python3"
  },
  "language_info": {
   "codemirror_mode": {
    "name": "ipython",
    "version": 3
   },
   "file_extension": ".py",
   "mimetype": "text/x-python",
   "name": "python",
   "nbconvert_exporter": "python",
   "pygments_lexer": "ipython3",
   "version": "3.8.5"
  }
 },
 "nbformat": 4,
 "nbformat_minor": 4
}
