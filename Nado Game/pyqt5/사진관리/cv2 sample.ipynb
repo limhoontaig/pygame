{
 "cells": [
  {
   "cell_type": "code",
   "execution_count": null,
   "metadata": {},
   "outputs": [],
   "source": [
    "import cv2\n",
    "import numpy as np\n",
    "\n",
    "file_path = 'C:\\\\사진 - 복사본 (2)\\\\IMG_4301.JPG'\n",
    "flags=cv2.IMREAD_COLOR\n",
    "dtype=np.uint8\n",
    "n = np.fromfile(file_path, dtype)\n",
    "img = cv2.imdecode(n, flags)\n",
    "#img = cv2.imread(file_path)                            # 이미지 기본 값으로 읽기\n",
    "#img_gray = cv2.imread(file_path, cv2.IMREAD_GRAYSCALE) # 이미지를 그레이 스케일로 읽기\n",
    "img_gray = cv2.imdecode(n, cv2.IMREAD_GRAYSCALE) # 이미지를 그레이 스케일로 읽기\n",
    "\n",
    "cv2.namedWindow('origin', cv2.WINDOW_AUTOSIZE)         # origin이라는 이름으로 창 생성\n",
    "cv2.namedWindow('gray', cv2.WINDOW_NORMAL)             # gray라는 이름으로 창 생성\n",
    "\n",
    "cv2.imshow('origin', img)                              # origin 창에 이미지 표시\n",
    "cv2.imshow('gray', img_gray)                           # gray 창에 이미지 표시\n",
    "\n",
    "cv2.moveWindow('origin', 0,0)                          # 창 위치 변경\n",
    "cv2.moveWindow('origin', 100,100)                      # 창 위치 변경\n",
    "\n",
    "cv2.waitKey(0)                                         # 아무키나 누르면 \n",
    "cv2.resizeWindow('origin', 200, 200)                   # 창 크기 변경 ( 변경 안 됨)\n",
    "cv2.resizeWindow('gray', 100, 100)                     # 창 크기 변경 (변경됨)\n",
    "\n",
    "cv2.waitKey(0)                                         # 아무키나 누르면\n",
    "cv2.destroyWindow('gray')                              # gray 창 닫기\n",
    "\n",
    "cv2.waitKey(0)                                         # 아무키나 누르면\n",
    "cv2.destroyAllWindows()                                # 모든 창 닫기\n",
    " "
   ]
  },
  {
   "cell_type": "code",
   "execution_count": null,
   "metadata": {},
   "outputs": [],
   "source": [
    "import cv2\n",
    "import numpy as np\n",
    "import pathlib\n",
    "fileName = r'E:\\\\사진정리\\\\2017년\\\\2017년04월\\\\2017년04월02일_대모산 및 롯데불꽃놀이\\\\20170402_210003(lotte fire works).mp4'\n",
    "fileName = r'C:\\\\사진 - 복사본 (2)\\\\mp4\\\\20211023_110844.mp4'\n",
    "cap = cv2.VideoCapture(fileName)\n",
    "width = cap.get(cv2.CAP_PROP_FRAME_WIDTH)\n",
    "height = cap.get(cv2.CAP_PROP_FRAME_HEIGHT)\n",
    "\n",
    "#width = cap.get(cv2.CAP_PROP_FRAME_WIDTH)\n",
    "#height = cap.get(cv2.CAP_PROP_FRAME_HEIGHT)\n",
    "\n",
    "if cap.isOpened():\n",
    "    #cap.set(cv2.CAP_PROP_FRAME_WIDTH, 300)\n",
    "    #cap.set(cv2.CAP_PROP_FRAME_HEIGHT, 600)\n",
    "    fps = cap.get(cv2.CAP_PROP_FPS)\n",
    "    delay = int(1000/(16*fps))\n",
    "    print(\"FPS: %f, Delay: %dms, WIDTH: %d, HEIGHT: %d \" %(fps, delay, width, height))\n",
    "    while True:\n",
    "        ret, img = cap.read()\n",
    "        if ret:\n",
    "            cv2.imshow(fileName, img)\n",
    "            cv2.waitKey(delay)\n",
    "        else:\n",
    "            break\n",
    "cap.release()\n",
    "cv2.destroyAllWindows()    \n",
    "\n"
   ]
  },
  {
   "cell_type": "code",
   "execution_count": null,
   "metadata": {},
   "outputs": [],
   "source": []
  },
  {
   "cell_type": "code",
   "execution_count": null,
   "metadata": {
    "scrolled": true
   },
   "outputs": [],
   "source": [
    "import os\n",
    "#import shutil\n",
    "root = ['E:\\\\source\\\\pygame\\\\Nado Game\\\\pyqt5\\\\사진관리\\\\data',]\n",
    "\n",
    "for r in root:\n",
    "    dirs = os.listdir(r)\n",
    "    for dir in dirs:\n",
    "        path = os.path.join(r, dir)\n",
    "        print(path)\n",
    "        #shutil.rmtree(path)"
   ]
  },
  {
   "cell_type": "code",
   "execution_count": null,
   "metadata": {},
   "outputs": [],
   "source": [
    "a = '%'\n",
    "b = 'text'\n",
    "c = '%'\n",
    "a+b+c"
   ]
  },
  {
   "cell_type": "code",
   "execution_count": null,
   "metadata": {},
   "outputs": [],
   "source": [
    "# Python program to explain cv2.imread() method\n",
    "\n",
    "# importing cv2\n",
    "import cv2\n",
    "import numpy as np\n",
    "import pathlib\n",
    "\n",
    "\n",
    "# path\n",
    "path = r'E:\\20091017_134630_P1000202.JPG'\n",
    "path = r'E:\\source\\pygame\\Nado Game\\pyqt5\\사진관리\\data\\20220929_161911.jpg'\n",
    "path = str(pathlib.Path(path,))\n",
    "img_array = np.fromfile(path, np.uint8)\n",
    "img = cv2.imdecode(img_array, cv2.IMREAD_COLOR)\n",
    "# Using cv2.imread() method\n",
    "#img = cv2.imread(path, cv2.IMREAD_COLOR)\n",
    "\n",
    "# Displaying the image\n",
    "cv2.imshow('image', img)\n",
    "cv2.waitKey()\n",
    "\n",
    "cv2.destroyAllWindows()\n"
   ]
  },
  {
   "cell_type": "code",
   "execution_count": null,
   "metadata": {},
   "outputs": [],
   "source": [
    "import cv2\n",
    "path = r'E:\\20091017_134630_P1000202.JPG'\n",
    "import os\n",
    "import numpy as np\n",
    "import pathlib\n",
    "#import shutil\n",
    "root = ['E:\\\\source\\\\pygame\\\\Nado Game\\\\pyqt5\\\\사진관리\\\\data',]\n",
    "\n",
    "for r in root:\n",
    "    dirs = os.listdir(r)\n",
    "    for dir in dirs:\n",
    "        path = os.path.join(r, dir)\n",
    "\n",
    "        #src = cv2.imread(path, cv2.IMREAD_COLOR)\n",
    "        \n",
    "        # gif 처리\n",
    "        if str(path).lower().endswith('.gif'):\n",
    "            gif = cv2.VideoCapture(path)\n",
    "            ret, frame = gif.read()  # ret=True if it finds a frame else False.\n",
    "            if ret:\n",
    "                src = frame\n",
    "        else:\n",
    "            img_array = np.fromfile(path, np.uint8)\n",
    "            src = cv2.imdecode(img_array, cv2.IMREAD_COLOR)\n",
    "\n",
    "        width, height, dim = src.shape\n",
    "        print(width, height, dim)\n",
    "        if width > height:\n",
    "            fx_x = 640 / width\n",
    "        else:\n",
    "            fx_x = 640 / height\n",
    "\n",
    "        dst = cv2.resize(src, dsize=(640, 480), interpolation=cv2.INTER_AREA)\n",
    "        dst2 = cv2.resize(src, dsize=(0, 0), fx=fx_x, fy=fx_x, interpolation=cv2.INTER_LINEAR)\n",
    "\n",
    "        #cv2.imshow(\"src\", src)\n",
    "        #cv2.imshow(\"dst\", dst)\n",
    "        cv2.imshow(\"dst2\", dst2)\n",
    "        cv2.waitKey(3000)\n",
    "        cv2.destroyAllWindows()        "
   ]
  },
  {
   "cell_type": "code",
   "execution_count": 18,
   "metadata": {},
   "outputs": [
    {
     "name": "stdout",
     "output_type": "stream",
     "text": [
      "5\n",
      "4\n",
      "3\n",
      "2\n",
      "1\n"
     ]
    }
   ],
   "source": [
    "row = 5\n",
    "rows = 0\n",
    "step = 1\n",
    "if row > rows:\n",
    "    step = -1\n",
    "    \n",
    "for i in range(row, rows, step):\n",
    "    print(i)"
   ]
  }
 ],
 "metadata": {
  "kernelspec": {
   "display_name": "Python 3",
   "language": "python",
   "name": "python3"
  },
  "language_info": {
   "codemirror_mode": {
    "name": "ipython",
    "version": 3
   },
   "file_extension": ".py",
   "mimetype": "text/x-python",
   "name": "python",
   "nbconvert_exporter": "python",
   "pygments_lexer": "ipython3",
   "version": "3.8.5"
  }
 },
 "nbformat": 4,
 "nbformat_minor": 4
}
