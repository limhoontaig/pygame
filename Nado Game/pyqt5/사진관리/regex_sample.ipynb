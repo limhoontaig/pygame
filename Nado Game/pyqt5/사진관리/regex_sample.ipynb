{
 "cells": [
  {
   "cell_type": "code",
   "execution_count": null,
   "metadata": {},
   "outputs": [],
   "source": [
    "import re"
   ]
  },
  {
   "cell_type": "code",
   "execution_count": null,
   "metadata": {},
   "outputs": [],
   "source": [
    "texts = ['1983.01.09 속리산', '20890108 rewais 캠핑', '89-01-08 한국', '1983년05월09일 20명 함께 무산담', '1986-05-30 지리산' , '2023 05 07 한강']\n",
    "delimiter = ['-', '_', '.', ' ', '년']"
   ]
  },
  {
   "cell_type": "code",
   "execution_count": null,
   "metadata": {},
   "outputs": [],
   "source": [
    "\n",
    "for text in texts:\n",
    "    checker = re.compile(r'(19\\d\\d|20\\d\\d|\\d\\d)[년\\-_. ]?(0[1-9]|1[012])[월\\-_. ]?(0[1-9]|[12][0-9]|3[01])[일]?') \n",
    "    #checker = re.compile(r'(19\\d\\d|20\\d\\d)([년]?)(0[1-9]|1[012])([월]?)(0[1-9]|[12][0-9]|[|3[01])([일]?)') \n",
    "    m = checker.match(text)\n",
    "    #print('m:','\"', str(m),'\"')\n",
    "    if m:\n",
    "        print('Match:', text, m.group(), m.group(1), m.group(2) , m.group(3))#, m.group(4), m.group(5), m.group(6))\n",
    "        remain = text[m.end()+1:]\n",
    "        print('remain: ','\"' +remain +'\"')\n",
    "    else:\n",
    "        print('No Match!!!', text)\n",
    "        \n",
    "    '''\n",
    "    t = re.compile(r'\\d+')\n",
    "    result = t.match(text)\n",
    "    print(result.span())\n",
    "    print('sub: ', result)\n",
    "    result = t.findall(text)\n",
    "    print('findall:', result)'''"
   ]
  },
  {
   "cell_type": "code",
   "execution_count": null,
   "metadata": {},
   "outputs": [],
   "source": [
    "p = re.compile('Crow|Servo')\n",
    "text = 'CrowServo'\n",
    "m = p.match(text)\n",
    "if m:\n",
    "    print(m.end())\n",
    "else:\n",
    "    print(m)\n",
    "text[m.end():]"
   ]
  }
 ],
 "metadata": {
  "kernelspec": {
   "display_name": "Python 3",
   "language": "python",
   "name": "python3"
  },
  "language_info": {
   "codemirror_mode": {
    "name": "ipython",
    "version": 3
   },
   "file_extension": ".py",
   "mimetype": "text/x-python",
   "name": "python",
   "nbconvert_exporter": "python",
   "pygments_lexer": "ipython3",
   "version": "3.8.5"
  }
 },
 "nbformat": 4,
 "nbformat_minor": 4
}
