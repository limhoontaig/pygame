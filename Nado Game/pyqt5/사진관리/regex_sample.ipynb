{
 "cells": [
  {
   "cell_type": "code",
   "execution_count": null,
   "metadata": {},
   "outputs": [],
   "source": [
    "import re"
   ]
  },
  {
   "cell_type": "code",
   "execution_count": null,
   "metadata": {},
   "outputs": [],
   "source": [
    "texts = ['1983.01.09 속리산', '20890108 rewais 캠핑', '89-01-08 한국', '1983년05월09일 20명 함께 무산담', '1986-05-30 지리산' , '2023 05 07 한강']\n",
    "delimiter = ['-', '_', '.', ' ', '년']"
   ]
  },
  {
   "cell_type": "code",
   "execution_count": null,
   "metadata": {},
   "outputs": [],
   "source": [
    "\n",
    "for text in texts:\n",
    "    checker = re.compile(r'(19\\d\\d|20\\d\\d|\\d\\d)[년\\-_. ]?(0[1-9]|1[012])[월\\-_. ]?(0[1-9]|[12][0-9]|3[01])[일]?') \n",
    "    #checker = re.compile(r'(19\\d\\d|20\\d\\d)([년]?)(0[1-9]|1[012])([월]?)(0[1-9]|[12][0-9]|[|3[01])([일]?)') \n",
    "    m = checker.match(text)\n",
    "    #print('m:','\"', str(m),'\"')\n",
    "    if m:\n",
    "        print('Match:', text, m.group(), m.group(1), m.group(2) , m.group(3))#, m.group(4), m.group(5), m.group(6))\n",
    "        remain = text[m.end()+1:]\n",
    "        print('remain: ','\"' +remain +'\"')\n",
    "    else:\n",
    "        print('No Match!!!', text)\n",
    "        \n",
    "    '''\n",
    "    t = re.compile(r'\\d+')\n",
    "    result = t.match(text)\n",
    "    print(result.span())\n",
    "    print('sub: ', result)\n",
    "    result = t.findall(text)\n",
    "    print('findall:', result)'''"
   ]
  },
  {
   "cell_type": "code",
   "execution_count": null,
   "metadata": {},
   "outputs": [],
   "source": [
    "import re, os\n",
    "\n",
    "path = 'D:\\\\개인자료\\\\개인 사진\\\\2004년\\\\041106 한수원 신불산행 사진'\n",
    "files = os.walk(path)\n",
    "\n",
    "\n",
    "\n",
    "#f = '20041113 11_27_01DSCF4101 설악폭포 오르는길에서 영숙.JPG'\n",
    "text = ['20210123_101111.JPG', '041106 한수원 신불산 본사팀 DSC03231.JPG', '임훈택 041106 12_179901 한수원 신불산 본사팀 DSC03231.JPG','20041113 112705DSCF4101 설악폭포 오르는길에서 영숙.JPG'] #20041106_120740_\n",
    "def checkReSearch(path):# 중간부터라도 있는지 확인하는식\n",
    "    checker = re.compile(r'(19\\d\\d|20\\d\\d|\\d\\d)[년\\-_.: ]?(0[1-9]|1[012])[월\\-_.: ]?(0[1-9]|[12][0-9]|3[01])[일]?[_ ]([01][0-9]|2[0-3])?[시\\-_.: ]?[[0-5][0-9]]?[분\\-_.: ]?[[0-5][0-9]]?[초]?')\n",
    "    return checker.search(path)\n",
    "def checkReSearchYMD(path):# 처음부터 맞는지 확인하는삭\n",
    "    checker = re.compile(r'(19\\d\\d|20\\d\\d|\\d\\d)[년\\-_.: ]?(0[1-9]|1[012])[월\\-_.: ]?(0[1-9]|[12][0-9]|3[01])[일]?')\n",
    "    return checker.search(path)\n",
    "def checkReMatch(path):# 처음부터 맞는지 확인하는삭\n",
    "    checker = re.compile(r'(19\\d\\d|20\\d\\d|\\d\\d)[년\\-_.: ]?(0[1-9]|1[012])[월\\-_.: ]?(0[1-9]|[12][0-9]|3[01])[일]?[_ ]([01][0-9]|2[0-3])?[시\\-_.: ]?[[0-5][0-9]]?[분\\-_.: ]?[[0-5][0-9]]?[초]?')\n",
    "    return checker.match(path)\n",
    "#for file in text:\n",
    "for f in text:\n",
    "    print(f, checkReSearch(f))\n",
    "    #checker = re.compile(r'(19\\d\\d|20\\d\\d|\\d\\d)[년\\-_.: ]?(0[1-9]|1[012])[월\\-_.: ]?(0[1-9]|[12][0-9]|3[01])[일]?[_ ]([01][0-9]|2[0-4])?[시\\-_.: ]?([0-5][0-9])?[분\\-_.: ]?([0-5][0-9])\n",
    "    #checker = re.compile(r'(19\\d\\d|20\\d\\d|\\d\\d)[년\\-_.: ]?(0[1-9]|1[012])[월\\-_.: ]?(0[1-9]|[12][0-9]|3[01])[일]?[_ ]([01][0-9]|2[0-3])?[시\\-_.: ]?[[0-5][0-9]]?[분\\-_.: ]?[[0-5][0-9]]?[초]?')\n",
    "    p = checkReMatch(f)\n",
    "    if p!= None:\n",
    "        print('p', p.end())\n",
    "\n",
    "\n",
    "\n",
    "    n = checkReSearch(f)\n",
    "    #find = fi[n.start():n.end()]\n",
    "    #print(find)\n",
    "    if n != None:\n",
    "\n",
    "        if n.start() == 0:\n",
    "            f = f[n.end():]\n",
    "        else:\n",
    "            f = f[:n.start()] + f[n.end():]\n",
    "        print('m:', f)\n",
    "    m = checkReSearchYMD(f)\n",
    "    if m != None:\n",
    "        if m.start() == 0:\n",
    "            f = f[m.end():]\n",
    "        else:\n",
    "            f = f[:m.start()] + f[m.end():]\n",
    "        print('ymd:', f)\n",
    "\n",
    "\n",
    "\n",
    "\n",
    "\n",
    "        print (m)\n",
    "checker = re.compile(r'(19\\d\\d|20\\d\\d|\\d\\d)[년\\-_.: ]?(0[1-9]|1[012])[월\\-_.: ]?(0[1-9]|[12][0-9]|3[01])[일]?[_ ]([01][0-9]|2[0-3])?[시\\-_.: ]?[[0-5][0-9]]?[분\\-_.: ]?[[0-5][0-9]]?[초]?')\n",
    "#checker.match(f)    "
   ]
  },
  {
   "cell_type": "code",
   "execution_count": null,
   "metadata": {},
   "outputs": [],
   "source": [
    "p = re.compile('Crow|Servo')\n",
    "text = 'CrowServo'\n",
    "m = p.match(text)\n",
    "if m:\n",
    "    print(m.end())\n",
    "else:\n",
    "    print(m)\n",
    "text[m.end():]"
   ]
  },
  {
   "cell_type": "code",
   "execution_count": null,
   "metadata": {},
   "outputs": [],
   "source": [
    "f = '_lim'\n",
    "if f[0] == '_': # file 명이 _로 시작하면 _ 제외\n",
    "    f = f[1:]\n",
    "f"
   ]
  }
 ],
 "metadata": {
  "kernelspec": {
   "display_name": "Python 3",
   "language": "python",
   "name": "python3"
  },
  "language_info": {
   "codemirror_mode": {
    "name": "ipython",
    "version": 3
   },
   "file_extension": ".py",
   "mimetype": "text/x-python",
   "name": "python",
   "nbconvert_exporter": "python",
   "pygments_lexer": "ipython3",
   "version": "3.8.8"
  }
 },
 "nbformat": 4,
 "nbformat_minor": 4
}
