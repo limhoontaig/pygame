{
 "cells": [
  {
   "cell_type": "code",
   "execution_count": null,
   "metadata": {},
   "outputs": [],
   "source": [
    "import pandas as pd\n",
    "from PyQt5.QtWidgets import *\n",
    "from PyQt5.QtWidgets import QFileDialog"
   ]
  },
  {
   "cell_type": "code",
   "execution_count": null,
   "metadata": {},
   "outputs": [],
   "source": [
    "fname = QFileDialog.getOpenFileName()#caption:'엑셀 데이타 파일을 선택하세요')#, ,,,'All Files (*) :: Excel (*.xls *.xlsx)')"
   ]
  },
  {
   "cell_type": "code",
   "execution_count": null,
   "metadata": {},
   "outputs": [],
   "source": [
    "import pandas as pd\n",
    "f = \"D:\\\\주차관제\\\\occp_026m01_2_20230425_172217344_184_61628.xlsx\"\n",
    "df = pd.read_excel(f, skiprows=5)\n",
    "headers = df.columns.to_list()\n",
    "headers\n",
    "df\n",
    "selected = ['동', '호', '입주자', '차량',  'Unnamed: 9', '차종', '소유자', '등록일', '연락처']\n",
    "dfs = df[selected].copy()\n",
    "dfs.dropna(subset=['등록일'], inplace = True)\n",
    "dfsfill=dfs.ffill()\n",
    "dfsfill\n",
    "#dfs\n",
    "\n",
    "#dfs.ffill()\n",
    "con = dfsfill[dfsfill['등록일'].str.contains('등록일', na=False)].index\n",
    "dfsfill.drop(con, inplace=True)\n",
    "dfsfill\n"
   ]
  },
  {
   "cell_type": "code",
   "execution_count": null,
   "metadata": {},
   "outputs": [],
   "source": []
  },
  {
   "cell_type": "code",
   "execution_count": null,
   "metadata": {},
   "outputs": [],
   "source": []
  }
 ],
 "metadata": {
  "kernelspec": {
   "display_name": "Python 3",
   "language": "python",
   "name": "python3"
  },
  "language_info": {
   "codemirror_mode": {
    "name": "ipython",
    "version": 3
   },
   "file_extension": ".py",
   "mimetype": "text/x-python",
   "name": "python",
   "nbconvert_exporter": "python",
   "pygments_lexer": "ipython3",
   "version": "3.8.8"
  }
 },
 "nbformat": 4,
 "nbformat_minor": 4
}
