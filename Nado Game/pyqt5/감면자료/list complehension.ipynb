{
 "cells": [
  {
   "cell_type": "code",
   "execution_count": 3,
   "id": "ae632cd2",
   "metadata": {},
   "outputs": [
    {
     "data": {
      "text/plain": [
       "[0, 1, 2, 3, 4, 5, 6, 7, 8, 9]"
      ]
     },
     "execution_count": 3,
     "metadata": {},
     "output_type": "execute_result"
    }
   ],
   "source": [
    "numbers = []\n",
    "for n in range (10):\n",
    "    numbers.append(n)\n",
    "numbers"
   ]
  },
  {
   "cell_type": "code",
   "execution_count": 8,
   "id": "851ec15d",
   "metadata": {},
   "outputs": [
    {
     "data": {
      "text/plain": [
       "[0, 4, 16, 36, 64]"
      ]
     },
     "execution_count": 8,
     "metadata": {},
     "output_type": "execute_result"
    }
   ],
   "source": [
    "numbers = [x for x in range(10)]\n",
    "numbers = [x*x for x in range(10) if x%2==0]\n",
    "numbers"
   ]
  },
  {
   "cell_type": "code",
   "execution_count": 10,
   "id": "cef75559",
   "metadata": {},
   "outputs": [
    {
     "data": {
      "text/plain": [
       "[('쌈밥', '사과'),\n",
       " ('쌈밥', '아이스크림'),\n",
       " ('쌈밥', '커피'),\n",
       " ('치킨', '사과'),\n",
       " ('치킨', '아이스크림'),\n",
       " ('치킨', '커피'),\n",
       " ('피자', '사과'),\n",
       " ('피자', '아이스크림'),\n",
       " ('피자', '커피')]"
      ]
     },
     "execution_count": 10,
     "metadata": {},
     "output_type": "execute_result"
    }
   ],
   "source": [
    "menu = [ (x, y) for x in ['쌈밥', '치킨', '피자'] for y in ['사과', '아이스크림', '커피']]\n",
    "menu"
   ]
  },
  {
   "cell_type": "code",
   "execution_count": 13,
   "id": "f8e63746",
   "metadata": {},
   "outputs": [
    {
     "data": {
      "text/plain": [
       "[('쌈밥', '사과', '배달 시키기'),\n",
       " ('쌈밥', '사과', '가서 먹기'),\n",
       " ('쌈밥', '아이스크림', '배달 시키기'),\n",
       " ('쌈밥', '아이스크림', '가서 먹기'),\n",
       " ('쌈밥', '커피', '배달 시키기'),\n",
       " ('쌈밥', '커피', '가서 먹기'),\n",
       " ('치킨', '사과', '배달 시키기'),\n",
       " ('치킨', '사과', '가서 먹기'),\n",
       " ('치킨', '아이스크림', '배달 시키기'),\n",
       " ('치킨', '아이스크림', '가서 먹기'),\n",
       " ('치킨', '커피', '배달 시키기'),\n",
       " ('치킨', '커피', '가서 먹기'),\n",
       " ('피자', '사과', '배달 시키기'),\n",
       " ('피자', '사과', '가서 먹기'),\n",
       " ('피자', '아이스크림', '배달 시키기'),\n",
       " ('피자', '아이스크림', '가서 먹기'),\n",
       " ('피자', '커피', '배달 시키기'),\n",
       " ('피자', '커피', '가서 먹기')]"
      ]
     },
     "execution_count": 13,
     "metadata": {},
     "output_type": "execute_result"
    }
   ],
   "source": [
    "[ (x, y, z) for x in ['쌈밥', '치킨', '피자'] for y in ['사과', '아이스크림', '커피'] for z in ['배달 시키기', '가서 먹기']]"
   ]
  },
  {
   "cell_type": "code",
   "execution_count": 14,
   "id": "684a0b6d",
   "metadata": {},
   "outputs": [
    {
     "data": {
      "text/plain": [
       "[0, 2, 4]"
      ]
     },
     "execution_count": 14,
     "metadata": {},
     "output_type": "execute_result"
    }
   ],
   "source": [
    "[ x for x in range(10) if x < 5 if x % 2 == 0 ]"
   ]
  },
  {
   "cell_type": "code",
   "execution_count": null,
   "id": "f28240d7",
   "metadata": {},
   "outputs": [],
   "source": []
  }
 ],
 "metadata": {
  "kernelspec": {
   "display_name": "Python 3",
   "language": "python",
   "name": "python3"
  },
  "language_info": {
   "codemirror_mode": {
    "name": "ipython",
    "version": 3
   },
   "file_extension": ".py",
   "mimetype": "text/x-python",
   "name": "python",
   "nbconvert_exporter": "python",
   "pygments_lexer": "ipython3",
   "version": "3.8.8"
  }
 },
 "nbformat": 4,
 "nbformat_minor": 5
}
