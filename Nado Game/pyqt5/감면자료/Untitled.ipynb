{
 "cells": [
  {
   "cell_type": "code",
   "execution_count": 1,
   "metadata": {},
   "outputs": [],
   "source": [
    "import pandas as pd\n",
    "from PyQt5.QtWidgets import *\n",
    "from PyQt5.QtWidgets import QFileDialog"
   ]
  },
  {
   "cell_type": "code",
   "execution_count": null,
   "metadata": {},
   "outputs": [],
   "source": [
    "fname = QFileDialog.getOpenFileName()#caption:'엑셀 데이타 파일을 선택하세요')#, ,,,'All Files (*) :: Excel (*.xls *.xlsx)')"
   ]
  },
  {
   "cell_type": "code",
   "execution_count": null,
   "metadata": {},
   "outputs": [],
   "source": [
    "import pandas as pd\n",
    "import numpy as np\n",
    "f = \"G:\\\\주차관제\\\\occp_026m01_2_20230425_172217344_184_61628.xlsx\"\n",
    "df = pd.read_excel(f, skiprows=5)\n",
    "headers = df.columns.to_list()\n",
    "headers\n",
    "df\n",
    "selected = ['동', '호', '입주자', '차량',  'Unnamed: 9', '차종', '소유자', '등록일', '연락처']\n",
    "dfs = df[selected].copy()\n",
    "dfs.dropna(subset=['등록일'], inplace = True)\n",
    "dffil = dfs[['동', '호', '입주자']].ffill()\n",
    "dfs[['동', '호', '입주자']] = dffil[['동', '호', '입주자']]\n",
    "dfs['소유자'] = dfs['소유자'].fillna(dfs['입주자'])\n",
    "dfsfill = dfs\n",
    "\n",
    "#dfs.ffill()\n",
    "con = dfsfill[dfsfill['등록일'].str.contains('등록일', na=False)].index\n",
    "dfsfill.drop(con, inplace=True)\n",
    "dfsfill['차량번호'] = dfsfill['차량'] + dfsfill['Unnamed: 9']\n",
    "dfsfill.drop(labels=['차량', 'Unnamed: 9'],axis=1, inplace=True)\n",
    "dfsfill.rename(columns= {'등록일':'등록일자', '차종':'차량종류', '소유자':'성명'}, inplace=True)\n",
    "dfsfill\n",
    "dfsel = dfsfill[['차량번호',  '성명', '차량종류','연락처', '동', '호','등록일자']]\n",
    "dfsel[['차량설정', '출입구분', '요일', '부서명', '부제', '등록구분', '유효기간', '회사명']]=np.NaN\n",
    "dfsel\n",
    "dffinal = dfsel[['차량번호',  '성명', '차량종류', '회사명', '부서명', '연락처', '동', '호', '등록구분', '출입구분', '등록일자', '유효기간', '요일', '부제', '차량설정']]\n",
    "dffinal[['차량설정', '출입구분', '요일',  '부제', '등록구분']]= \"0\"\n",
    "dffinal[['유효기간']] = '9999-12-30'\n",
    "dffinal[['회사명', '부서명']]=\"\"\n",
    "dffinal.reset_index(drop=True)\n",
    "dffinal.to_excel(\"G:\\\\주차관제\\\\occp_026m.xlsx\", index=False, header=True)\n",
    "dfs.head(50)"
   ]
  },
  {
   "cell_type": "code",
   "execution_count": null,
   "metadata": {},
   "outputs": [],
   "source": [
    "\n",
    "import pandas as pd\n",
    "template = \"D:\\\\과장\\\\주차관제\\\\등록 차량\\\\정기차량검색(20230425 others).xls\"\n",
    "df = pd.read_excel(f, skiprows=0)\n",
    "headers = df.columns.to_list()\n",
    "headers\n",
    "#df"
   ]
  },
  {
   "cell_type": "code",
   "execution_count": null,
   "metadata": {},
   "outputs": [],
   "source": []
  }
 ],
 "metadata": {
  "kernelspec": {
   "display_name": "Python 3",
   "language": "python",
   "name": "python3"
  },
  "language_info": {
   "codemirror_mode": {
    "name": "ipython",
    "version": 3
   },
   "file_extension": ".py",
   "mimetype": "text/x-python",
   "name": "python",
   "nbconvert_exporter": "python",
   "pygments_lexer": "ipython3",
   "version": "3.8.5"
  }
 },
 "nbformat": 4,
 "nbformat_minor": 4
}
