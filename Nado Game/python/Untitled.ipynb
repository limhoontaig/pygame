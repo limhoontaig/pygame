{
 "cells": [
  {
   "cell_type": "markdown",
   "id": "a0c1b25d",
   "metadata": {},
   "source": [
    "Python에서 동적 import와 함수 호출 방법\n",
    "\n",
    "__import__는 파이썬의 내장 함수입니다. (특별히 import를 하지 않고 사용할 수 있습니다.) 아래 코드처럼 모듈명(파일명)만 파라미터로 넘겨주면 특정 모듈을 읽어올 수 있습니다."
   ]
  },
  {
   "cell_type": "code",
   "execution_count": null,
   "id": "097fb253",
   "metadata": {},
   "outputs": [],
   "source": [
    "mod_name = \"class_body_scope\"\n",
    "mod = __import__('%s' %(mod_name), fromlist=[mod_name])\n",
    "mod"
   ]
  },
  {
   "cell_type": "code",
   "execution_count": null,
   "id": "00820712",
   "metadata": {},
   "outputs": [],
   "source": [
    "import inspect\n",
    "from bbb import BBB\n",
    "\n",
    "# get module from module name\n",
    "mod_name = \"bbb\"\n",
    "mod = __import__('%s' %(mod_name), fromlist=[mod_name])\n",
    "\n",
    "# get classes from module\n",
    "class_list =  inspect.getmembers(mod, inspect.isclass)\n",
    "for key, data in class_list:\n",
    "    \n",
    "    print('{} : {!r}'.format(key, data))\n",
    "\n",
    "\n",
    "# get functions from a class\n",
    "\n",
    "if class_list:\n",
    "    cls_name = class_list[0][0]\n",
    "    cls = getattr(mod, cls_name)\n",
    "    func_list = inspect.getmembers(cls, inspect.isfunction)\n",
    "    print(func_list)\n",
    "    for key, data in func_list:\n",
    "        print('{} : {!r}'.format(key, data))\n",
    "        func_name = key\n",
    "        func = getattr(cls, func_name)\n",
    "        func()\n"
   ]
  },
  {
   "cell_type": "code",
   "execution_count": null,
   "id": "15d681a0",
   "metadata": {},
   "outputs": [],
   "source": [
    "#bbb.py\n",
    "class BBB:\n",
    "    def setup():\n",
    "        print(\"setup!\")\n",
    "\n",
    "    def teardown():\n",
    "        print(\"teardown!\")\n",
    "\n",
    "    def testModule1():\n",
    "        print(\"testModule1!\")\n",
    "\n",
    "    def testModule2():\n",
    "        print(\"testModule2!\")\n",
    "\n",
    "    def testModule3():\n",
    "        print(\"testModule3!\")"
   ]
  },
  {
   "cell_type": "markdown",
   "id": "2a7a839a",
   "metadata": {},
   "source": [
    "Python3에서 다른 경로에 있는 파일을 import 하는 방법\n"
   ]
  },
  {
   "cell_type": "markdown",
   "id": "79632fa0",
   "metadata": {},
   "source": [
    "동일 경로 파일\n",
    "실행파일(main.py)과 동일한 경로에 있는 python 파일들은 현재 경로를 의미하는 .를 사용하여 import할 수 있습니다."
   ]
  },
  {
   "cell_type": "code",
   "execution_count": null,
   "id": "86649963",
   "metadata": {},
   "outputs": [],
   "source": [
    "# main.py\n",
    "from . import bbb"
   ]
  },
  {
   "cell_type": "markdown",
   "id": "526543bb",
   "metadata": {},
   "source": [
    "하위 경로 파일\n",
    "하위 경로의 파일은 from 하위 폴더 처럼 폴더를 지정해주어 import할 수 있습니다."
   ]
  },
  {
   "cell_type": "code",
   "execution_count": null,
   "id": "8c1b9fb8",
   "metadata": {},
   "outputs": [],
   "source": [
    "# main.py\n",
    "from subdir import my_module"
   ]
  },
  {
   "cell_type": "markdown",
   "id": "ccfa3303",
   "metadata": {},
   "source": [
    "상위 경로 파일\n",
    "상위 폴더를 참조할 때는 from에 상위 경로를 입력해서 import할 수 없고, 절대경로 path에 상위 경로에 대한 path를 추가해줘야 합니다. 그러면 추가된 상위폴더 경로에서 상대적으로 파일들을 참조할 수 있습니다.\n",
    "\n",
    "실행파일 경로의 상위 경로를 구하는 코드는 os.path.dirname(os.path.abspath(os.path.dirname(__file__))) 입니다. 이 경로를 sys.path.append로 절대경로에 추가할 수 있습니다."
   ]
  },
  {
   "cell_type": "code",
   "execution_count": null,
   "id": "24573dc4",
   "metadata": {},
   "outputs": [],
   "source": [
    "# main.py\n",
    "import sys\n",
    "sys.path.append(os.path.dirname(os.path.abspath(os.path.dirname(__file__))))\n",
    "\n",
    "from . import library"
   ]
  },
  {
   "cell_type": "markdown",
   "id": "7b27f83c",
   "metadata": {},
   "source": [
    "파일 이름, 파일 경로\n",
    "test.py를 생성하고 아래 코드를 실행하면 파일 이름과 경로가 출력됩니다. realpath()는 심볼릭 링크 등의 실제 경로를 찾아주며, abspath는 파일의 절대경로를 리턴합니다."
   ]
  },
  {
   "cell_type": "code",
   "execution_count": 26,
   "id": "f538e594",
   "metadata": {},
   "outputs": [
    {
     "ename": "NameError",
     "evalue": "name '__file__' is not defined",
     "output_type": "error",
     "traceback": [
      "\u001b[1;31m---------------------------------------------------------------------------\u001b[0m",
      "\u001b[1;31mNameError\u001b[0m                                 Traceback (most recent call last)",
      "\u001b[1;32m<ipython-input-26-4b19085394d8>\u001b[0m in \u001b[0;36m<module>\u001b[1;34m\u001b[0m\n\u001b[0;32m      1\u001b[0m \u001b[1;32mimport\u001b[0m \u001b[0mos\u001b[0m\u001b[1;33m\u001b[0m\u001b[1;33m\u001b[0m\u001b[0m\n\u001b[1;32m----> 2\u001b[1;33m \u001b[0mprint\u001b[0m\u001b[1;33m(\u001b[0m\u001b[0m__file__\u001b[0m\u001b[1;33m)\u001b[0m\u001b[1;33m\u001b[0m\u001b[1;33m\u001b[0m\u001b[0m\n\u001b[0m\u001b[0;32m      3\u001b[0m \u001b[0mprint\u001b[0m\u001b[1;33m(\u001b[0m\u001b[0mos\u001b[0m\u001b[1;33m.\u001b[0m\u001b[0mpath\u001b[0m\u001b[1;33m.\u001b[0m\u001b[0mrealpath\u001b[0m\u001b[1;33m(\u001b[0m\u001b[0m__file__\u001b[0m\u001b[1;33m)\u001b[0m\u001b[1;33m)\u001b[0m\u001b[1;33m\u001b[0m\u001b[1;33m\u001b[0m\u001b[0m\n\u001b[0;32m      4\u001b[0m \u001b[0mprint\u001b[0m\u001b[1;33m(\u001b[0m\u001b[0mos\u001b[0m\u001b[1;33m.\u001b[0m\u001b[0mpath\u001b[0m\u001b[1;33m.\u001b[0m\u001b[0mabspath\u001b[0m\u001b[1;33m(\u001b[0m\u001b[0m__file__\u001b[0m\u001b[1;33m)\u001b[0m\u001b[1;33m)\u001b[0m\u001b[1;33m\u001b[0m\u001b[1;33m\u001b[0m\u001b[0m\n",
      "\u001b[1;31mNameError\u001b[0m: name '__file__' is not defined"
     ]
    }
   ],
   "source": [
    "import os\n",
    "print(__file__)\n",
    "print(os.path.realpath(__file__))\n",
    "print(os.path.abspath(__file__))"
   ]
  },
  {
   "cell_type": "markdown",
   "id": "00bbef74",
   "metadata": {},
   "source": [
    "현재 파일의 디렉토리(폴더) 경로\n",
    "아래 코드들은 파일이 있는 폴더의 경로를 구하는 2가지 방법입니다. os.getcwd()는 폴더 경로를 리턴합니다. os.path.dirname()는 파일의 폴더 경로를 리턴합니다."
   ]
  },
  {
   "cell_type": "code",
   "execution_count": 27,
   "id": "9bb5e5e5",
   "metadata": {},
   "outputs": [
    {
     "name": "stdout",
     "output_type": "stream",
     "text": [
      "C:\\source\\pygame\\Nado Game\\python\n"
     ]
    },
    {
     "ename": "NameError",
     "evalue": "name '__file__' is not defined",
     "output_type": "error",
     "traceback": [
      "\u001b[1;31m---------------------------------------------------------------------------\u001b[0m",
      "\u001b[1;31mNameError\u001b[0m                                 Traceback (most recent call last)",
      "\u001b[1;32m<ipython-input-27-44cd1618e1f1>\u001b[0m in \u001b[0;36m<module>\u001b[1;34m\u001b[0m\n\u001b[0;32m      1\u001b[0m \u001b[1;32mimport\u001b[0m \u001b[0mos\u001b[0m\u001b[1;33m\u001b[0m\u001b[1;33m\u001b[0m\u001b[0m\n\u001b[0;32m      2\u001b[0m \u001b[0mprint\u001b[0m\u001b[1;33m(\u001b[0m\u001b[0mos\u001b[0m\u001b[1;33m.\u001b[0m\u001b[0mgetcwd\u001b[0m\u001b[1;33m(\u001b[0m\u001b[1;33m)\u001b[0m\u001b[1;33m)\u001b[0m\u001b[1;33m\u001b[0m\u001b[1;33m\u001b[0m\u001b[0m\n\u001b[1;32m----> 3\u001b[1;33m \u001b[0mprint\u001b[0m\u001b[1;33m(\u001b[0m\u001b[0mos\u001b[0m\u001b[1;33m.\u001b[0m\u001b[0mpath\u001b[0m\u001b[1;33m.\u001b[0m\u001b[0mdirname\u001b[0m\u001b[1;33m(\u001b[0m\u001b[0mos\u001b[0m\u001b[1;33m.\u001b[0m\u001b[0mpath\u001b[0m\u001b[1;33m.\u001b[0m\u001b[0mrealpath\u001b[0m\u001b[1;33m(\u001b[0m\u001b[0m__file__\u001b[0m\u001b[1;33m)\u001b[0m\u001b[1;33m)\u001b[0m \u001b[1;33m)\u001b[0m\u001b[1;33m\u001b[0m\u001b[1;33m\u001b[0m\u001b[0m\n\u001b[0m",
      "\u001b[1;31mNameError\u001b[0m: name '__file__' is not defined"
     ]
    }
   ],
   "source": [
    "import os\n",
    "print(os.getcwd())\n",
    "print(os.path.dirname(os.path.realpath(__file__)) )"
   ]
  },
  {
   "cell_type": "markdown",
   "id": "51c7f2f7",
   "metadata": {},
   "source": [
    "현재 디렉토리에 있는 파일 리스트\n",
    "listdir()는 인자로 넘겨준 경로의 파일 리스트를 리턴합니다."
   ]
  },
  {
   "cell_type": "code",
   "execution_count": 28,
   "id": "c6eec39c",
   "metadata": {},
   "outputs": [
    {
     "name": "stdout",
     "output_type": "stream",
     "text": [
      "['.ipynb_checkpoints', 'bbb.py', 'class_body_scope.py', 'Untitled.ipynb', '__pycache__']\n"
     ]
    }
   ],
   "source": [
    "import os\n",
    "print(os.listdir(os.getcwd()))"
   ]
  },
  {
   "cell_type": "markdown",
   "id": "73fb0da3",
   "metadata": {},
   "source": [
    "작업 디렉토리 변경\n",
    "chdir은 작업 디렉토리를 변경해줍니다."
   ]
  },
  {
   "cell_type": "code",
   "execution_count": 35,
   "id": "37504785",
   "metadata": {},
   "outputs": [
    {
     "name": "stdout",
     "output_type": "stream",
     "text": [
      "before: C:\\source\\pygame\\Nado Game\\python\n",
      "after: C:\\source\\pygame\\Nado Game\\python\n"
     ]
    }
   ],
   "source": [
    "import os\n",
    "print(\"before: %s\"%os.getcwd())\n",
    "os.chdir(r\"C:\\source\\pygame\\Nado Game\\python\")\n",
    "print(\"after: %s\"%os.getcwd())"
   ]
  },
  {
   "cell_type": "code",
   "execution_count": null,
   "id": "28464b2f",
   "metadata": {},
   "outputs": [],
   "source": []
  },
  {
   "cell_type": "code",
   "execution_count": null,
   "id": "fcc8cc73",
   "metadata": {},
   "outputs": [],
   "source": []
  },
  {
   "cell_type": "code",
   "execution_count": null,
   "id": "6bd82cc1",
   "metadata": {},
   "outputs": [],
   "source": []
  },
  {
   "cell_type": "code",
   "execution_count": null,
   "id": "7cc66bc6",
   "metadata": {},
   "outputs": [],
   "source": []
  },
  {
   "cell_type": "code",
   "execution_count": null,
   "id": "0d076eff",
   "metadata": {},
   "outputs": [],
   "source": []
  },
  {
   "cell_type": "code",
   "execution_count": null,
   "id": "8cd87b56",
   "metadata": {},
   "outputs": [],
   "source": []
  },
  {
   "cell_type": "code",
   "execution_count": null,
   "id": "3825c6b9",
   "metadata": {},
   "outputs": [],
   "source": []
  },
  {
   "cell_type": "code",
   "execution_count": null,
   "id": "13a418fe",
   "metadata": {},
   "outputs": [],
   "source": []
  },
  {
   "cell_type": "code",
   "execution_count": null,
   "id": "61a975bb",
   "metadata": {},
   "outputs": [],
   "source": []
  },
  {
   "cell_type": "code",
   "execution_count": null,
   "id": "1db1ef6b",
   "metadata": {},
   "outputs": [],
   "source": []
  }
 ],
 "metadata": {
  "kernelspec": {
   "display_name": "Python 3",
   "language": "python",
   "name": "python3"
  },
  "language_info": {
   "codemirror_mode": {
    "name": "ipython",
    "version": 3
   },
   "file_extension": ".py",
   "mimetype": "text/x-python",
   "name": "python",
   "nbconvert_exporter": "python",
   "pygments_lexer": "ipython3",
   "version": "3.8.8"
  }
 },
 "nbformat": 4,
 "nbformat_minor": 5
}
